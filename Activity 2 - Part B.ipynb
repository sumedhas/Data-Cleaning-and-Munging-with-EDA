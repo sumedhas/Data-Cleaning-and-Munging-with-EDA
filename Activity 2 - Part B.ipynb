{
 "cells": [
  {
   "cell_type": "markdown",
   "metadata": {},
   "source": [
    "# Activity 2 : Part B"
   ]
  },
  {
   "cell_type": "markdown",
   "metadata": {},
   "source": [
    "Loading required libraries"
   ]
  },
  {
   "cell_type": "code",
   "execution_count": 1,
   "metadata": {
    "collapsed": true
   },
   "outputs": [
    {
     "name": "stderr",
     "output_type": "stream",
     "text": [
      "\n",
      "Attaching package: ‘dplyr’\n",
      "\n",
      "The following objects are masked from ‘package:stats’:\n",
      "\n",
      "    filter, lag\n",
      "\n",
      "The following objects are masked from ‘package:base’:\n",
      "\n",
      "    intersect, setdiff, setequal, union\n",
      "\n"
     ]
    }
   ],
   "source": [
    "library(dplyr)"
   ]
  },
  {
   "cell_type": "markdown",
   "metadata": {},
   "source": [
    "Reading player and team data from respective CSV."
   ]
  },
  {
   "cell_type": "code",
   "execution_count": 2,
   "metadata": {
    "collapsed": true
   },
   "outputs": [],
   "source": [
    "players <- read.csv(\"player.csv\")\n",
    "teams <- read.csv(\"team.csv\")"
   ]
  },
  {
   "cell_type": "markdown",
   "metadata": {},
   "source": [
    "<b>Q) Which are the top 10 players by overall rating?<b>"
   ]
  },
  {
   "cell_type": "code",
   "execution_count": 3,
   "metadata": {
    "collapsed": false
   },
   "outputs": [
    {
     "data": {
      "text/html": [
       "<table>\n",
       "<thead><tr><th scope=col>Player_names</th><th scope=col>Overall_Rating</th></tr></thead>\n",
       "<tbody>\n",
       "\t<tr><td>Lionel Messi     </td><td>94               </td></tr>\n",
       "\t<tr><td>Gianluigi Buffon </td><td>93               </td></tr>\n",
       "\t<tr><td>Wayne Rooney     </td><td>93               </td></tr>\n",
       "\t<tr><td>Cristiano Ronaldo</td><td>93               </td></tr>\n",
       "\t<tr><td>Xavi Hernandez   </td><td>92               </td></tr>\n",
       "\t<tr><td>Gregory Coupet   </td><td>92               </td></tr>\n",
       "\t<tr><td>Thierry Henry    </td><td>91               </td></tr>\n",
       "\t<tr><td>John Terry       </td><td>91               </td></tr>\n",
       "\t<tr><td>Iker Casillas    </td><td>91               </td></tr>\n",
       "\t<tr><td>Alessandro Nesta </td><td>91               </td></tr>\n",
       "</tbody>\n",
       "</table>\n"
      ],
      "text/latex": [
       "\\begin{tabular}{r|ll}\n",
       " Player\\_names & Overall\\_Rating\\\\\n",
       "\\hline\n",
       "\t Lionel Messi      & 94               \\\\\n",
       "\t Gianluigi Buffon  & 93               \\\\\n",
       "\t Wayne Rooney      & 93               \\\\\n",
       "\t Cristiano Ronaldo & 93               \\\\\n",
       "\t Xavi Hernandez    & 92               \\\\\n",
       "\t Gregory Coupet    & 92               \\\\\n",
       "\t Thierry Henry     & 91               \\\\\n",
       "\t John Terry        & 91               \\\\\n",
       "\t Iker Casillas     & 91               \\\\\n",
       "\t Alessandro Nesta  & 91               \\\\\n",
       "\\end{tabular}\n"
      ],
      "text/markdown": [
       "\n",
       "Player_names | Overall_Rating | \n",
       "|---|---|---|---|---|---|---|---|---|---|\n",
       "| Lionel Messi      | 94                | \n",
       "| Gianluigi Buffon  | 93                | \n",
       "| Wayne Rooney      | 93                | \n",
       "| Cristiano Ronaldo | 93                | \n",
       "| Xavi Hernandez    | 92                | \n",
       "| Gregory Coupet    | 92                | \n",
       "| Thierry Henry     | 91                | \n",
       "| John Terry        | 91                | \n",
       "| Iker Casillas     | 91                | \n",
       "| Alessandro Nesta  | 91                | \n",
       "\n",
       "\n"
      ],
      "text/plain": [
       "   Player_names      Overall_Rating\n",
       "1  Lionel Messi      94            \n",
       "2  Gianluigi Buffon  93            \n",
       "3  Wayne Rooney      93            \n",
       "4  Cristiano Ronaldo 93            \n",
       "5  Xavi Hernandez    92            \n",
       "6  Gregory Coupet    92            \n",
       "7  Thierry Henry     91            \n",
       "8  John Terry        91            \n",
       "9  Iker Casillas     91            \n",
       "10 Alessandro Nesta  91            "
      ]
     },
     "metadata": {},
     "output_type": "display_data"
    }
   ],
   "source": [
    "Answer1<-tbl_df(data.frame(Player_names=players$PlayerNamesByOverall,Overall_Rating=players$ByOverallRating ))\n",
    "Answer1"
   ]
  },
  {
   "cell_type": "markdown",
   "metadata": {},
   "source": [
    "<b>Q) Which are the top 10 goalkeepers by sum of gk attributes?</b>"
   ]
  },
  {
   "cell_type": "code",
   "execution_count": 4,
   "metadata": {
    "collapsed": false
   },
   "outputs": [
    {
     "data": {
      "text/html": [
       "<table>\n",
       "<thead><tr><th scope=col>Player_names</th><th scope=col>GK_Rating</th></tr></thead>\n",
       "<tbody>\n",
       "\t<tr><td>Gianluigi Buffon </td><td>449              </td></tr>\n",
       "\t<tr><td>Gregory Coupet   </td><td>447              </td></tr>\n",
       "\t<tr><td>Petr Cech        </td><td>445              </td></tr>\n",
       "\t<tr><td>Iker Casillas    </td><td>442              </td></tr>\n",
       "\t<tr><td>Manuel Neuer     </td><td>440              </td></tr>\n",
       "\t<tr><td>Julio Cesar      </td><td>438              </td></tr>\n",
       "\t<tr><td>Sebastian Frey   </td><td>437              </td></tr>\n",
       "\t<tr><td>Edwin van der Sar</td><td>436              </td></tr>\n",
       "\t<tr><td>David De Gea     </td><td>429              </td></tr>\n",
       "\t<tr><td>Pepe Reina       </td><td>428              </td></tr>\n",
       "</tbody>\n",
       "</table>\n"
      ],
      "text/latex": [
       "\\begin{tabular}{r|ll}\n",
       " Player\\_names & GK\\_Rating\\\\\n",
       "\\hline\n",
       "\t Gianluigi Buffon  & 449              \\\\\n",
       "\t Gregory Coupet    & 447              \\\\\n",
       "\t Petr Cech         & 445              \\\\\n",
       "\t Iker Casillas     & 442              \\\\\n",
       "\t Manuel Neuer      & 440              \\\\\n",
       "\t Julio Cesar       & 438              \\\\\n",
       "\t Sebastian Frey    & 437              \\\\\n",
       "\t Edwin van der Sar & 436              \\\\\n",
       "\t David De Gea      & 429              \\\\\n",
       "\t Pepe Reina        & 428              \\\\\n",
       "\\end{tabular}\n"
      ],
      "text/markdown": [
       "\n",
       "Player_names | GK_Rating | \n",
       "|---|---|---|---|---|---|---|---|---|---|\n",
       "| Gianluigi Buffon  | 449               | \n",
       "| Gregory Coupet    | 447               | \n",
       "| Petr Cech         | 445               | \n",
       "| Iker Casillas     | 442               | \n",
       "| Manuel Neuer      | 440               | \n",
       "| Julio Cesar       | 438               | \n",
       "| Sebastian Frey    | 437               | \n",
       "| Edwin van der Sar | 436               | \n",
       "| David De Gea      | 429               | \n",
       "| Pepe Reina        | 428               | \n",
       "\n",
       "\n"
      ],
      "text/plain": [
       "   Player_names      GK_Rating\n",
       "1  Gianluigi Buffon  449      \n",
       "2  Gregory Coupet    447      \n",
       "3  Petr Cech         445      \n",
       "4  Iker Casillas     442      \n",
       "5  Manuel Neuer      440      \n",
       "6  Julio Cesar       438      \n",
       "7  Sebastian Frey    437      \n",
       "8  Edwin van der Sar 436      \n",
       "9  David De Gea      429      \n",
       "10 Pepe Reina        428      "
      ]
     },
     "metadata": {},
     "output_type": "display_data"
    }
   ],
   "source": [
    "Answer2 <- tbl_df(data.frame(Player_names=players$PlayerNamesByGKR,GK_Rating=players$ByGKRating))\n",
    "Answer2"
   ]
  },
  {
   "cell_type": "markdown",
   "metadata": {},
   "source": [
    "<b>Q) Which are the top 10 players by number of appearances (with any team they played with)?</b>"
   ]
  },
  {
   "cell_type": "code",
   "execution_count": 5,
   "metadata": {
    "collapsed": false
   },
   "outputs": [
    {
     "data": {
      "text/html": [
       "<table>\n",
       "<thead><tr><th scope=col>Player_names</th><th scope=col>Appearances</th></tr></thead>\n",
       "<tbody>\n",
       "\t<tr><td>Steve Mandanda      </td><td>300                 </td></tr>\n",
       "\t<tr><td>Stephane Ruffier    </td><td>294                 </td></tr>\n",
       "\t<tr><td>Gorka Iraizoz Moreno</td><td>286                 </td></tr>\n",
       "\t<tr><td>Samir Handanovic    </td><td>286                 </td></tr>\n",
       "\t<tr><td>Hugo Lloris         </td><td>282                 </td></tr>\n",
       "\t<tr><td>Tim Howard          </td><td>282                 </td></tr>\n",
       "\t<tr><td>Joe Hart            </td><td>275                 </td></tr>\n",
       "\t<tr><td>Cedric Carrasso     </td><td>268                 </td></tr>\n",
       "\t<tr><td>Daniel Congre       </td><td>262                 </td></tr>\n",
       "\t<tr><td>Moussa Sissoko      </td><td>260                 </td></tr>\n",
       "</tbody>\n",
       "</table>\n"
      ],
      "text/latex": [
       "\\begin{tabular}{r|ll}\n",
       " Player\\_names & Appearances\\\\\n",
       "\\hline\n",
       "\t Steve Mandanda       & 300                 \\\\\n",
       "\t Stephane Ruffier     & 294                 \\\\\n",
       "\t Gorka Iraizoz Moreno & 286                 \\\\\n",
       "\t Samir Handanovic     & 286                 \\\\\n",
       "\t Hugo Lloris          & 282                 \\\\\n",
       "\t Tim Howard           & 282                 \\\\\n",
       "\t Joe Hart             & 275                 \\\\\n",
       "\t Cedric Carrasso      & 268                 \\\\\n",
       "\t Daniel Congre        & 262                 \\\\\n",
       "\t Moussa Sissoko       & 260                 \\\\\n",
       "\\end{tabular}\n"
      ],
      "text/markdown": [
       "\n",
       "Player_names | Appearances | \n",
       "|---|---|---|---|---|---|---|---|---|---|\n",
       "| Steve Mandanda       | 300                  | \n",
       "| Stephane Ruffier     | 294                  | \n",
       "| Gorka Iraizoz Moreno | 286                  | \n",
       "| Samir Handanovic     | 286                  | \n",
       "| Hugo Lloris          | 282                  | \n",
       "| Tim Howard           | 282                  | \n",
       "| Joe Hart             | 275                  | \n",
       "| Cedric Carrasso      | 268                  | \n",
       "| Daniel Congre        | 262                  | \n",
       "| Moussa Sissoko       | 260                  | \n",
       "\n",
       "\n"
      ],
      "text/plain": [
       "   Player_names         Appearances\n",
       "1  Steve Mandanda       300        \n",
       "2  Stephane Ruffier     294        \n",
       "3  Gorka Iraizoz Moreno 286        \n",
       "4  Samir Handanovic     286        \n",
       "5  Hugo Lloris          282        \n",
       "6  Tim Howard           282        \n",
       "7  Joe Hart             275        \n",
       "8  Cedric Carrasso      268        \n",
       "9  Daniel Congre        262        \n",
       "10 Moussa Sissoko       260        "
      ]
     },
     "metadata": {},
     "output_type": "display_data"
    }
   ],
   "source": [
    "Answer3 <- tbl_df(data.frame(Player_names=players$PlayerNamesByAppear,Appearances=players$ByAppearances))\n",
    "Answer3"
   ]
  },
  {
   "cell_type": "markdown",
   "metadata": {},
   "source": [
    "<b>Q) Which are the top 10 players by number of leagues they played in?</b>"
   ]
  },
  {
   "cell_type": "code",
   "execution_count": 6,
   "metadata": {
    "collapsed": false
   },
   "outputs": [
    {
     "data": {
      "text/html": [
       "<table>\n",
       "<thead><tr><th scope=col>Player_names</th><th scope=col>Leagues</th></tr></thead>\n",
       "<tbody>\n",
       "\t<tr><td>Gelson Fernandes     </td><td>6                    </td></tr>\n",
       "\t<tr><td>Ricky van Wolfswinkel</td><td>5                    </td></tr>\n",
       "\t<tr><td>Filip Djuricic       </td><td>5                    </td></tr>\n",
       "\t<tr><td>Radamel Falcao       </td><td>4                    </td></tr>\n",
       "\t<tr><td>Jonathan De Guzman   </td><td>4                    </td></tr>\n",
       "\t<tr><td>Almen Abdi           </td><td>4                    </td></tr>\n",
       "\t<tr><td>Ibrahim Afellay      </td><td>4                    </td></tr>\n",
       "\t<tr><td>Edson Braafheid      </td><td>4                    </td></tr>\n",
       "\t<tr><td>Eljero Elia          </td><td>4                    </td></tr>\n",
       "\t<tr><td>Danijel Pranjic      </td><td>4                    </td></tr>\n",
       "</tbody>\n",
       "</table>\n"
      ],
      "text/latex": [
       "\\begin{tabular}{r|ll}\n",
       " Player\\_names & Leagues\\\\\n",
       "\\hline\n",
       "\t Gelson Fernandes      & 6                    \\\\\n",
       "\t Ricky van Wolfswinkel & 5                    \\\\\n",
       "\t Filip Djuricic        & 5                    \\\\\n",
       "\t Radamel Falcao        & 4                    \\\\\n",
       "\t Jonathan De Guzman    & 4                    \\\\\n",
       "\t Almen Abdi            & 4                    \\\\\n",
       "\t Ibrahim Afellay       & 4                    \\\\\n",
       "\t Edson Braafheid       & 4                    \\\\\n",
       "\t Eljero Elia           & 4                    \\\\\n",
       "\t Danijel Pranjic       & 4                    \\\\\n",
       "\\end{tabular}\n"
      ],
      "text/markdown": [
       "\n",
       "Player_names | Leagues | \n",
       "|---|---|---|---|---|---|---|---|---|---|\n",
       "| Gelson Fernandes      | 6                     | \n",
       "| Ricky van Wolfswinkel | 5                     | \n",
       "| Filip Djuricic        | 5                     | \n",
       "| Radamel Falcao        | 4                     | \n",
       "| Jonathan De Guzman    | 4                     | \n",
       "| Almen Abdi            | 4                     | \n",
       "| Ibrahim Afellay       | 4                     | \n",
       "| Edson Braafheid       | 4                     | \n",
       "| Eljero Elia           | 4                     | \n",
       "| Danijel Pranjic       | 4                     | \n",
       "\n",
       "\n"
      ],
      "text/plain": [
       "   Player_names          Leagues\n",
       "1  Gelson Fernandes      6      \n",
       "2  Ricky van Wolfswinkel 5      \n",
       "3  Filip Djuricic        5      \n",
       "4  Radamel Falcao        4      \n",
       "5  Jonathan De Guzman    4      \n",
       "6  Almen Abdi            4      \n",
       "7  Ibrahim Afellay       4      \n",
       "8  Edson Braafheid       4      \n",
       "9  Eljero Elia           4      \n",
       "10 Danijel Pranjic       4      "
      ]
     },
     "metadata": {},
     "output_type": "display_data"
    }
   ],
   "source": [
    "Answer4 <- tbl_df(data.frame(Player_names=players$PlayerNamesByLeages,Leagues=players$ByLeagues))\n",
    "Answer4"
   ]
  },
  {
   "cell_type": "markdown",
   "metadata": {},
   "source": [
    "<b>Q) Which are the top 10 teams by sum of build up play attributes?</b>"
   ]
  },
  {
   "cell_type": "code",
   "execution_count": 7,
   "metadata": {
    "collapsed": false
   },
   "outputs": [
    {
     "data": {
      "text/html": [
       "<table>\n",
       "<thead><tr><th scope=col>Team_Names</th><th scope=col>Buils_Up_Play_Attr</th></tr></thead>\n",
       "<tbody>\n",
       "\t<tr><td>Torino                    </td><td>209                       </td></tr>\n",
       "\t<tr><td>Udinese                   </td><td>205                       </td></tr>\n",
       "\t<tr><td>Fortuna Düsseldorf        </td><td>198                       </td></tr>\n",
       "\t<tr><td>Podbeskidzie Bielsko-Biała</td><td>193                       </td></tr>\n",
       "\t<tr><td>Korona Kielce             </td><td>192                       </td></tr>\n",
       "\t<tr><td>Widzew Łódź               </td><td>190                       </td></tr>\n",
       "\t<tr><td>Widzew Łódź               </td><td>190                       </td></tr>\n",
       "\t<tr><td>Carpi                     </td><td>190                       </td></tr>\n",
       "\t<tr><td>FC Nantes                 </td><td>189                       </td></tr>\n",
       "\t<tr><td>Sassuolo                  </td><td>188                       </td></tr>\n",
       "</tbody>\n",
       "</table>\n"
      ],
      "text/latex": [
       "\\begin{tabular}{r|ll}\n",
       " Team\\_Names & Buils\\_Up\\_Play\\_Attr\\\\\n",
       "\\hline\n",
       "\t Torino                     & 209                       \\\\\n",
       "\t Udinese                    & 205                       \\\\\n",
       "\t Fortuna Düsseldorf         & 198                       \\\\\n",
       "\t Podbeskidzie Bielsko-Biała & 193                       \\\\\n",
       "\t Korona Kielce              & 192                       \\\\\n",
       "\t Widzew Łódź                & 190                       \\\\\n",
       "\t Widzew Łódź                & 190                       \\\\\n",
       "\t Carpi                      & 190                       \\\\\n",
       "\t FC Nantes                  & 189                       \\\\\n",
       "\t Sassuolo                   & 188                       \\\\\n",
       "\\end{tabular}\n"
      ],
      "text/markdown": [
       "\n",
       "Team_Names | Buils_Up_Play_Attr | \n",
       "|---|---|---|---|---|---|---|---|---|---|\n",
       "| Torino                     | 209                        | \n",
       "| Udinese                    | 205                        | \n",
       "| Fortuna Düsseldorf         | 198                        | \n",
       "| Podbeskidzie Bielsko-Biała | 193                        | \n",
       "| Korona Kielce              | 192                        | \n",
       "| Widzew Łódź                | 190                        | \n",
       "| Widzew Łódź                | 190                        | \n",
       "| Carpi                      | 190                        | \n",
       "| FC Nantes                  | 189                        | \n",
       "| Sassuolo                   | 188                        | \n",
       "\n",
       "\n"
      ],
      "text/plain": [
       "   Team_Names                 Buils_Up_Play_Attr\n",
       "1  Torino                     209               \n",
       "2  Udinese                    205               \n",
       "3  Fortuna Düsseldorf         198               \n",
       "4  Podbeskidzie Bielsko-Biała 193               \n",
       "5  Korona Kielce              192               \n",
       "6  Widzew Łódź                190               \n",
       "7  Widzew Łódź                190               \n",
       "8  Carpi                      190               \n",
       "9  FC Nantes                  189               \n",
       "10 Sassuolo                   188               "
      ]
     },
     "metadata": {},
     "output_type": "display_data"
    }
   ],
   "source": [
    "Answer5 <- tbl_df(data.frame(Team_Names=teams$TeamNamesByBuild,Buils_Up_Play_Attr=teams$ByBuild))\n",
    "Answer5"
   ]
  },
  {
   "cell_type": "markdown",
   "metadata": {},
   "source": [
    "<b>Q) Which are the top 10 teams by sum of chance creation attributes?</b>"
   ]
  },
  {
   "cell_type": "code",
   "execution_count": 8,
   "metadata": {
    "collapsed": false
   },
   "outputs": [
    {
     "data": {
      "text/html": [
       "<table>\n",
       "<thead><tr><th scope=col>Team_Names</th><th scope=col>Chanec_creation_Attr</th></tr></thead>\n",
       "<tbody>\n",
       "\t<tr><td>Lazio              </td><td>220                </td></tr>\n",
       "\t<tr><td>SV Werder Bremen   </td><td>216                </td></tr>\n",
       "\t<tr><td>Napoli             </td><td>215                </td></tr>\n",
       "\t<tr><td>Bayer 04 Leverkusen</td><td>210                </td></tr>\n",
       "\t<tr><td>Burnley            </td><td>210                </td></tr>\n",
       "\t<tr><td>Cardiff City       </td><td>210                </td></tr>\n",
       "\t<tr><td>Manchester City    </td><td>210                </td></tr>\n",
       "\t<tr><td>Aberdeen           </td><td>210                </td></tr>\n",
       "\t<tr><td>Rangers            </td><td>210                </td></tr>\n",
       "\t<tr><td>Tottenham Hotspur  </td><td>210                </td></tr>\n",
       "</tbody>\n",
       "</table>\n"
      ],
      "text/latex": [
       "\\begin{tabular}{r|ll}\n",
       " Team\\_Names & Chanec\\_creation\\_Attr\\\\\n",
       "\\hline\n",
       "\t Lazio               & 220                \\\\\n",
       "\t SV Werder Bremen    & 216                \\\\\n",
       "\t Napoli              & 215                \\\\\n",
       "\t Bayer 04 Leverkusen & 210                \\\\\n",
       "\t Burnley             & 210                \\\\\n",
       "\t Cardiff City        & 210                \\\\\n",
       "\t Manchester City     & 210                \\\\\n",
       "\t Aberdeen            & 210                \\\\\n",
       "\t Rangers             & 210                \\\\\n",
       "\t Tottenham Hotspur   & 210                \\\\\n",
       "\\end{tabular}\n"
      ],
      "text/markdown": [
       "\n",
       "Team_Names | Chanec_creation_Attr | \n",
       "|---|---|---|---|---|---|---|---|---|---|\n",
       "| Lazio               | 220                 | \n",
       "| SV Werder Bremen    | 216                 | \n",
       "| Napoli              | 215                 | \n",
       "| Bayer 04 Leverkusen | 210                 | \n",
       "| Burnley             | 210                 | \n",
       "| Cardiff City        | 210                 | \n",
       "| Manchester City     | 210                 | \n",
       "| Aberdeen            | 210                 | \n",
       "| Rangers             | 210                 | \n",
       "| Tottenham Hotspur   | 210                 | \n",
       "\n",
       "\n"
      ],
      "text/plain": [
       "   Team_Names          Chanec_creation_Attr\n",
       "1  Lazio               220                 \n",
       "2  SV Werder Bremen    216                 \n",
       "3  Napoli              215                 \n",
       "4  Bayer 04 Leverkusen 210                 \n",
       "5  Burnley             210                 \n",
       "6  Cardiff City        210                 \n",
       "7  Manchester City     210                 \n",
       "8  Aberdeen            210                 \n",
       "9  Rangers             210                 \n",
       "10 Tottenham Hotspur   210                 "
      ]
     },
     "metadata": {},
     "output_type": "display_data"
    }
   ],
   "source": [
    "Answer6 <- tbl_df(data.frame(Team_Names=teams$TeamNamesByChance, Chanec_creation_Attr=teams$ByChanceAttributes))\n",
    "Answer6"
   ]
  },
  {
   "cell_type": "markdown",
   "metadata": {},
   "source": [
    "<b>Q) Which are the top 10 teams by sum of defense attributes?</b>"
   ]
  },
  {
   "cell_type": "code",
   "execution_count": 9,
   "metadata": {
    "collapsed": false
   },
   "outputs": [
    {
     "data": {
      "text/html": [
       "<table>\n",
       "<thead><tr><th scope=col>Team_Names</th><th scope=col>Defense_Attr</th></tr></thead>\n",
       "<tbody>\n",
       "\t<tr><td>Jagiellonia Białystok</td><td>210                  </td></tr>\n",
       "\t<tr><td>SC Bastia            </td><td>210                  </td></tr>\n",
       "\t<tr><td>Zagłębie Lubin       </td><td>210                  </td></tr>\n",
       "\t<tr><td>Leicester City       </td><td>210                  </td></tr>\n",
       "\t<tr><td>Cardiff City         </td><td>210                  </td></tr>\n",
       "\t<tr><td>1. FC Kaiserslautern </td><td>210                  </td></tr>\n",
       "\t<tr><td>Southampton          </td><td>210                  </td></tr>\n",
       "\t<tr><td>AS Nancy-Lorraine    </td><td>210                  </td></tr>\n",
       "\t<tr><td>Blackpool            </td><td>210                  </td></tr>\n",
       "\t<tr><td>Stade Brestois 29    </td><td>210                  </td></tr>\n",
       "</tbody>\n",
       "</table>\n"
      ],
      "text/latex": [
       "\\begin{tabular}{r|ll}\n",
       " Team\\_Names & Defense\\_Attr\\\\\n",
       "\\hline\n",
       "\t Jagiellonia Białystok & 210                  \\\\\n",
       "\t SC Bastia             & 210                  \\\\\n",
       "\t Zagłębie Lubin        & 210                  \\\\\n",
       "\t Leicester City        & 210                  \\\\\n",
       "\t Cardiff City          & 210                  \\\\\n",
       "\t 1. FC Kaiserslautern  & 210                  \\\\\n",
       "\t Southampton           & 210                  \\\\\n",
       "\t AS Nancy-Lorraine     & 210                  \\\\\n",
       "\t Blackpool             & 210                  \\\\\n",
       "\t Stade Brestois 29     & 210                  \\\\\n",
       "\\end{tabular}\n"
      ],
      "text/markdown": [
       "\n",
       "Team_Names | Defense_Attr | \n",
       "|---|---|---|---|---|---|---|---|---|---|\n",
       "| Jagiellonia Białystok | 210                   | \n",
       "| SC Bastia             | 210                   | \n",
       "| Zagłębie Lubin        | 210                   | \n",
       "| Leicester City        | 210                   | \n",
       "| Cardiff City          | 210                   | \n",
       "| 1. FC Kaiserslautern  | 210                   | \n",
       "| Southampton           | 210                   | \n",
       "| AS Nancy-Lorraine     | 210                   | \n",
       "| Blackpool             | 210                   | \n",
       "| Stade Brestois 29     | 210                   | \n",
       "\n",
       "\n"
      ],
      "text/plain": [
       "   Team_Names            Defense_Attr\n",
       "1  Jagiellonia Białystok 210         \n",
       "2  SC Bastia             210         \n",
       "3  Zagłębie Lubin        210         \n",
       "4  Leicester City        210         \n",
       "5  Cardiff City          210         \n",
       "6  1. FC Kaiserslautern  210         \n",
       "7  Southampton           210         \n",
       "8  AS Nancy-Lorraine     210         \n",
       "9  Blackpool             210         \n",
       "10 Stade Brestois 29     210         "
      ]
     },
     "metadata": {},
     "output_type": "display_data"
    }
   ],
   "source": [
    "Answer7 <- tbl_df(data.frame(Team_Names=teams$TeamNamesByDef, Defense_Attr=teams$byDefAtrributes))\n",
    "Answer7"
   ]
  },
  {
   "cell_type": "markdown",
   "metadata": {},
   "source": [
    "<b>Q) Which are the top 10 teams by number of scored goals?</b>"
   ]
  },
  {
   "cell_type": "code",
   "execution_count": 10,
   "metadata": {
    "collapsed": false
   },
   "outputs": [
    {
     "data": {
      "text/html": [
       "<table>\n",
       "<thead><tr><th scope=col>Team_Names</th><th scope=col>Goals</th></tr></thead>\n",
       "<tbody>\n",
       "\t<tr><td>FC Barcelona     </td><td>849              </td></tr>\n",
       "\t<tr><td>Real Madrid CF   </td><td>843              </td></tr>\n",
       "\t<tr><td>Celtic           </td><td>695              </td></tr>\n",
       "\t<tr><td>FC Bayern Munich </td><td>653              </td></tr>\n",
       "\t<tr><td>PSV              </td><td>652              </td></tr>\n",
       "\t<tr><td>Ajax             </td><td>647              </td></tr>\n",
       "\t<tr><td>FC Basel         </td><td>619              </td></tr>\n",
       "\t<tr><td>Manchester City  </td><td>606              </td></tr>\n",
       "\t<tr><td>Chelsea          </td><td>583              </td></tr>\n",
       "\t<tr><td>Manchester United</td><td>582              </td></tr>\n",
       "</tbody>\n",
       "</table>\n"
      ],
      "text/latex": [
       "\\begin{tabular}{r|ll}\n",
       " Team\\_Names & Goals\\\\\n",
       "\\hline\n",
       "\t FC Barcelona      & 849              \\\\\n",
       "\t Real Madrid CF    & 843              \\\\\n",
       "\t Celtic            & 695              \\\\\n",
       "\t FC Bayern Munich  & 653              \\\\\n",
       "\t PSV               & 652              \\\\\n",
       "\t Ajax              & 647              \\\\\n",
       "\t FC Basel          & 619              \\\\\n",
       "\t Manchester City   & 606              \\\\\n",
       "\t Chelsea           & 583              \\\\\n",
       "\t Manchester United & 582              \\\\\n",
       "\\end{tabular}\n"
      ],
      "text/markdown": [
       "\n",
       "Team_Names | Goals | \n",
       "|---|---|---|---|---|---|---|---|---|---|\n",
       "| FC Barcelona      | 849               | \n",
       "| Real Madrid CF    | 843               | \n",
       "| Celtic            | 695               | \n",
       "| FC Bayern Munich  | 653               | \n",
       "| PSV               | 652               | \n",
       "| Ajax              | 647               | \n",
       "| FC Basel          | 619               | \n",
       "| Manchester City   | 606               | \n",
       "| Chelsea           | 583               | \n",
       "| Manchester United | 582               | \n",
       "\n",
       "\n"
      ],
      "text/plain": [
       "   Team_Names        Goals\n",
       "1  FC Barcelona      849  \n",
       "2  Real Madrid CF    843  \n",
       "3  Celtic            695  \n",
       "4  FC Bayern Munich  653  \n",
       "5  PSV               652  \n",
       "6  Ajax              647  \n",
       "7  FC Basel          619  \n",
       "8  Manchester City   606  \n",
       "9  Chelsea           583  \n",
       "10 Manchester United 582  "
      ]
     },
     "metadata": {},
     "output_type": "display_data"
    }
   ],
   "source": [
    "Answer8 <- tbl_df(data.frame(Team_Names=teams$TeamsByGoals,Goals=teams$ByGoals))\n",
    "Answer8"
   ]
  }
 ],
 "metadata": {
  "kernelspec": {
   "display_name": "R",
   "language": "R",
   "name": "ir"
  },
  "language_info": {
   "codemirror_mode": "r",
   "file_extension": ".r",
   "mimetype": "text/x-r-source",
   "name": "R",
   "pygments_lexer": "r",
   "version": "3.3.2"
  }
 },
 "nbformat": 4,
 "nbformat_minor": 2
}
