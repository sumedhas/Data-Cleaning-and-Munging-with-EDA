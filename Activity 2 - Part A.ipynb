{
 "cells": [
  {
   "cell_type": "markdown",
   "metadata": {},
   "source": [
    "# Activity : Extract and Repurpose Data (Part A)"
   ]
  },
  {
   "cell_type": "markdown",
   "metadata": {},
   "source": [
    "Loading required libraries :"
   ]
  },
  {
   "cell_type": "code",
   "execution_count": 1,
   "metadata": {
    "collapsed": true
   },
   "outputs": [
    {
     "name": "stderr",
     "output_type": "stream",
     "text": [
      "\n",
      "Attaching package: ‘dplyr’\n",
      "\n",
      "The following objects are masked from ‘package:stats’:\n",
      "\n",
      "    filter, lag\n",
      "\n",
      "The following objects are masked from ‘package:base’:\n",
      "\n",
      "    intersect, setdiff, setequal, union\n",
      "\n"
     ]
    }
   ],
   "source": [
    "library(\"RSQLite\")\n",
    "library(dplyr)"
   ]
  },
  {
   "cell_type": "markdown",
   "metadata": {},
   "source": [
    "Initializing player and team tables and Getting an object to connect to database using dbConnect :"
   ]
  },
  {
   "cell_type": "code",
   "execution_count": 2,
   "metadata": {
    "collapsed": true
   },
   "outputs": [],
   "source": [
    "player <- NULL\n",
    "team <- NULL\n",
    "con <- dbConnect(drv=RSQLite::SQLite(), dbname=\"database.sqlite\")"
   ]
  },
  {
   "cell_type": "markdown",
   "metadata": {},
   "source": [
    "<h6>Q1) Which are the top 10 players by overall rating? </h6>"
   ]
  },
  {
   "cell_type": "markdown",
   "metadata": {},
   "source": [
    "Loading Player_Attributes table from database :"
   ]
  },
  {
   "cell_type": "code",
   "execution_count": 3,
   "metadata": {
    "collapsed": true
   },
   "outputs": [],
   "source": [
    "p1 <-  NULL\n",
    "p1 = dbGetQuery( con,'select * from Player_Attributes' )"
   ]
  },
  {
   "cell_type": "markdown",
   "metadata": {},
   "source": [
    "Extracting required columns from table and converting to a tbl :"
   ]
  },
  {
   "cell_type": "code",
   "execution_count": 4,
   "metadata": {
    "collapsed": false
   },
   "outputs": [],
   "source": [
    "p1tbl <- tbl_df(data.frame(api_id=p1$player_api_id, OverallRating=p1$overall_rating))"
   ]
  },
  {
   "cell_type": "markdown",
   "metadata": {},
   "source": [
    "1) Grouping table by player_api_id <br>\n",
    "2) Summarising ny taking max of overall_rating over each group in table <br>\n",
    "3) Arranging table in descending order of overall_rating <br>\n",
    "4) Extracting top 10 records using head. "
   ]
  },
  {
   "cell_type": "code",
   "execution_count": 5,
   "metadata": {
    "collapsed": false
   },
   "outputs": [],
   "source": [
    "#1)\n",
    "p1tbl <- group_by(p1tbl, api_id)\n",
    "#2)\n",
    "p1tbl <- summarise(p1tbl, OverallRating=max(OverallRating))\n",
    "#3)\n",
    "p1tbl <- arrange(p1tbl, desc(OverallRating))\n",
    "#4)\n",
    "p1tbl <- head(p1tbl, 10)"
   ]
  },
  {
   "cell_type": "markdown",
   "metadata": {},
   "source": [
    "Retrieving player_names from table using select query"
   ]
  },
  {
   "cell_type": "code",
   "execution_count": 6,
   "metadata": {
    "collapsed": false
   },
   "outputs": [],
   "source": [
    "top10overall<- NULL\n",
    "for(id in p1tbl$api_id){\n",
    "    p2 =dbGetQuery(con, paste(\"select player_name from Player where player_api_id = \",id,\"\"))\n",
    "    top10overall = rbind(top10overall, p2)\n",
    "}\n",
    "top10overall <- cbind(top10overall,OverallRating=p1tbl$OverallRating)\n",
    "colnames(top10overall) <- c(\"PlayerNamesByOverall\",\"ByOverallRating\")"
   ]
  },
  {
   "cell_type": "markdown",
   "metadata": {},
   "source": [
    "Binding results to the player table"
   ]
  },
  {
   "cell_type": "code",
   "execution_count": 7,
   "metadata": {
    "collapsed": true
   },
   "outputs": [],
   "source": [
    "player <- bind_cols(player, top10overall)"
   ]
  },
  {
   "cell_type": "markdown",
   "metadata": {},
   "source": [
    "<h6>Q2) Which are the top 10 goalkeepers by sum of gk attributes?</h6>"
   ]
  },
  {
   "cell_type": "markdown",
   "metadata": {},
   "source": [
    "1) Mutating sum of gk attribute rows to a new table <br>\n",
    "2) Converting to a tbl. <br>\n",
    "3) Grouping table by player_api_id <br>\n",
    "4) Summarising by taking max of gk attributes over each group in table <br>\n",
    "5) Arranging table in descending order of gk attributes. <br>\n",
    "6) Extracting top 10 records using head. "
   ]
  },
  {
   "cell_type": "code",
   "execution_count": 8,
   "metadata": {
    "collapsed": false
   },
   "outputs": [],
   "source": [
    "#1)\n",
    "p2tbl <- mutate(p1,top10gk = rowSums(p1[, c(38,39,40,41,42)]))\n",
    "#2)\n",
    "p2tbl <- tbl_df(data.frame(api_id=p1$player_api_id, GKRating=p2tbl$top10gk))\n",
    "#3)\n",
    "p2tbl <- group_by(p2tbl, api_id)\n",
    "#4)\n",
    "p2tbl <- summarise(p2tbl, GKRating=max(GKRating))\n",
    "#5)\n",
    "p2tbl <- arrange(p2tbl, desc(GKRating))\n",
    "#6)\n",
    "p2tbl <- head(p2tbl, 10)"
   ]
  },
  {
   "cell_type": "markdown",
   "metadata": {
    "collapsed": true
   },
   "source": [
    "Retrieving player_names from table using select query"
   ]
  },
  {
   "cell_type": "code",
   "execution_count": 9,
   "metadata": {
    "collapsed": false
   },
   "outputs": [],
   "source": [
    "top10GKR<- NULL\n",
    "for(id in p2tbl$api_id){\n",
    "    p3 =dbGetQuery(con, paste(\"select player_name from Player where player_api_id = \",id,\"\"))\n",
    "    top10GKR = rbind(top10GKR, p3)\n",
    "}\n",
    "top10GKR <- cbind(top10GKR,OverallRating=p2tbl$GKRating)\n",
    "colnames(top10GKR) <- c(\"PlayerNamesByGKR\",\"ByGKRating\")"
   ]
  },
  {
   "cell_type": "markdown",
   "metadata": {},
   "source": [
    "Binding results to the player table"
   ]
  },
  {
   "cell_type": "code",
   "execution_count": 10,
   "metadata": {
    "collapsed": false
   },
   "outputs": [],
   "source": [
    "player <- bind_cols(player, top10GKR)"
   ]
  },
  {
   "cell_type": "markdown",
   "metadata": {},
   "source": [
    "<h6>Q3) Which are the top 10 players by number of appearances (with any team they played with)?</h6>"
   ]
  },
  {
   "cell_type": "markdown",
   "metadata": {},
   "source": [
    "Loading match table from database :"
   ]
  },
  {
   "cell_type": "code",
   "execution_count": 11,
   "metadata": {
    "collapsed": true
   },
   "outputs": [],
   "source": [
    "p4 <-  NULL\n",
    "p4 = dbGetQuery(con,'select * from match')"
   ]
  },
  {
   "cell_type": "markdown",
   "metadata": {},
   "source": [
    "Binding home_players and away_players in one column using rbind. <br>\n",
    "Grouping table by player_api_id <br>\n",
    "Summarising by taking a sum of th number of times a player has appeared in the column. <br>\n",
    "Arranging table in descending order of no. of appearances."
   ]
  },
  {
   "cell_type": "code",
   "execution_count": 12,
   "metadata": {
    "collapsed": false
   },
   "outputs": [],
   "source": [
    "full <- tbl_df(na.omit(p4[,56]))\n",
    "full <- count(full, value)\n",
    "for(x in seq(57,77)) {\n",
    "    h1 <- tbl_df(na.omit(p4[,x]))\n",
    "    h1_val <- count(h1, value)\n",
    "    full <- bind_rows(h1_val,full)\n",
    "    full_group <- summarise(group_by(full,value),count=sum(n))\n",
    "    full_group <- arrange(full_group, desc(count))\n",
    "}  "
   ]
  },
  {
   "cell_type": "markdown",
   "metadata": {},
   "source": [
    "Extracting top ten appeared players using head. <br>\n",
    "Retrieving player_names from table using select query <br>"
   ]
  },
  {
   "cell_type": "code",
   "execution_count": 13,
   "metadata": {
    "collapsed": false
   },
   "outputs": [],
   "source": [
    "top10byappear <- head(full_group, 10)\n",
    "appearances <- NULL\n",
    "for(id in top10byappear$value){\n",
    "    p7 =dbGetQuery(con, paste(\"select player_name from player where player_api_id = \",id,\"\"))\n",
    "    appearances = rbind(appearances, p7)\n",
    "}\n",
    "appearances <- cbind(appearances, top10byappear$count)\n",
    "colnames(appearances) <- c(\"PlayerNamesByAppear\",\"ByAppearances\")"
   ]
  },
  {
   "cell_type": "markdown",
   "metadata": {},
   "source": [
    "Binding results to the player table :"
   ]
  },
  {
   "cell_type": "code",
   "execution_count": 14,
   "metadata": {
    "collapsed": false
   },
   "outputs": [],
   "source": [
    "player <- bind_cols(player, appearances)"
   ]
  },
  {
   "cell_type": "markdown",
   "metadata": {},
   "source": [
    "<h6>Q4) Which are the top 10 players by number of leagues they played in?</h6>"
   ]
  },
  {
   "cell_type": "markdown",
   "metadata": {},
   "source": [
    "Binding home_players and away_players along with league ids in one table using bind_rows. <br>"
   ]
  },
  {
   "cell_type": "code",
   "execution_count": 15,
   "metadata": {
    "collapsed": true
   },
   "outputs": [],
   "source": [
    "df <- data.frame(id=p4[,56], league=p4[,3])\n",
    "full <- tbl_df(na.omit(df))"
   ]
  },
  {
   "cell_type": "code",
   "execution_count": 16,
   "metadata": {
    "collapsed": true
   },
   "outputs": [],
   "source": [
    "for(x in seq(57,77)) {\n",
    "    df <- data.frame(id=p4[,x], league=p4[,3])\n",
    "    h1 <- tbl_df(na.omit(df))\n",
    "    #h1_val <- count(h1, value)\n",
    "    full <- bind_rows(h1,full)\n",
    "}"
   ]
  },
  {
   "cell_type": "markdown",
   "metadata": {},
   "source": [
    "Grouping table by player_api_id <br>\n",
    "Summarising by taking length of the unique elements in league column in a group. <br>\n",
    "Arranging table in descending order of no. of leagues."
   ]
  },
  {
   "cell_type": "code",
   "execution_count": 17,
   "metadata": {
    "collapsed": true
   },
   "outputs": [],
   "source": [
    "groupbyid <- group_by(full,id)\n",
    "full_group <- summarise(groupbyid, leagues=length(unique(league)))\n",
    "full_group <- arrange(full_group, desc(leagues))  "
   ]
  },
  {
   "cell_type": "markdown",
   "metadata": {},
   "source": [
    "Extracting top ten appeared players using head. <br>\n",
    "Retrieving player_names from table using select query <br>"
   ]
  },
  {
   "cell_type": "code",
   "execution_count": 18,
   "metadata": {
    "collapsed": false
   },
   "outputs": [],
   "source": [
    "top10byleagues <- head(full_group, 10)\n",
    "leagues <- NULL\n",
    "for(id in top10byleagues$id){\n",
    "    p8 =dbGetQuery(con, paste(\"select player_name from player where player_api_id = \",id,\"\"))\n",
    "    leagues = rbind(leagues, p8)\n",
    "}\n",
    "leagues <- cbind(leagues, top10byleagues$leagues)\n",
    "colnames(leagues) <- c(\"PlayerNamesByLeages\",\"ByLeagues\")"
   ]
  },
  {
   "cell_type": "markdown",
   "metadata": {},
   "source": [
    "Binding results to the player table"
   ]
  },
  {
   "cell_type": "code",
   "execution_count": 19,
   "metadata": {
    "collapsed": true
   },
   "outputs": [],
   "source": [
    "player <- bind_cols(player, leagues)"
   ]
  },
  {
   "cell_type": "markdown",
   "metadata": {},
   "source": [
    "<h6>Q5) Which are the top 10 teams by sum of build up play attributes?</h6>"
   ]
  },
  {
   "cell_type": "markdown",
   "metadata": {},
   "source": [
    "Loading team_attributes table from database :"
   ]
  },
  {
   "cell_type": "code",
   "execution_count": 20,
   "metadata": {
    "collapsed": false
   },
   "outputs": [],
   "source": [
    "p5 <-  NULL\n",
    "p5 = dbGetQuery( con,'select * from team_attributes' )"
   ]
  },
  {
   "cell_type": "markdown",
   "metadata": {},
   "source": [
    "1) Mutating sum of buld up play attribute rows to a new table <br>\n",
    "2) Converting to a tbl. <br>\n",
    "3) Grouping table by team_api_id <br>\n",
    "4) Summarising by taking max of build attributes over each group in table <br>\n",
    "5) Arranging table in descending order of build attributes. <br>\n",
    "6) Extracting top 10 records using head. "
   ]
  },
  {
   "cell_type": "code",
   "execution_count": 21,
   "metadata": {
    "collapsed": false
   },
   "outputs": [],
   "source": [
    "#1)\n",
    "p5 <- mutate(p5,top10build = rowSums(p5[, c(5,7,9)]))\n",
    "#2)\n",
    "p5tbl <- tbl_df(na.omit(data.frame(api_id=p5$team_api_id, BuildAttr = p5$top10build)))\n",
    "#3)\n",
    "p5tbl <- group_by(p5tbl, api_id)\n",
    "#4)\n",
    "p5tbl <- summarise(p5tbl, BuildAttr = max(BuildAttr))\n",
    "#5)\n",
    "p5tbl <- arrange(p5tbl, desc(BuildAttr))\n",
    "#6)\n",
    "p5tbl <- head(p5tbl,10)"
   ]
  },
  {
   "cell_type": "markdown",
   "metadata": {},
   "source": [
    "Retrieving team_names from table using select query"
   ]
  },
  {
   "cell_type": "code",
   "execution_count": 22,
   "metadata": {
    "collapsed": false
   },
   "outputs": [],
   "source": [
    "build_team_name <- NULL\n",
    "for(id in p5tbl$api_id){\n",
    "    p6 =dbGetQuery(con, paste(\"select team_long_name from team where team_api_id = \",id,\"\"))\n",
    "    build_team_name = rbind(build_team_name, p6)\n",
    "}\n",
    "build_team_name <- cbind(build_team_name, p5tbl$BuildAttr)\n",
    "colnames(build_team_name) <- c(\"TeamNamesByBuild\",\"ByBuild\")"
   ]
  },
  {
   "cell_type": "markdown",
   "metadata": {},
   "source": [
    "Binding results to the team table :"
   ]
  },
  {
   "cell_type": "code",
   "execution_count": 23,
   "metadata": {
    "collapsed": false
   },
   "outputs": [],
   "source": [
    "team <- bind_cols(team, build_team_name)"
   ]
  },
  {
   "cell_type": "markdown",
   "metadata": {},
   "source": [
    "<h6>Q6) Which are the top 10 teams by sum of chance creation attributes?</h6>"
   ]
  },
  {
   "cell_type": "markdown",
   "metadata": {},
   "source": [
    "1) Mutating sum of chance creation attribute rows to a new table <br>\n",
    "2) Converting to a tbl. <br>\n",
    "3) Grouping table by team_api_id <br>\n",
    "4) Summarising by taking max of chance attributes over each group in table <br>\n",
    "5) Arranging table in descending order of chance attributes. <br>\n",
    "6) Extracting top 10 records using head. "
   ]
  },
  {
   "cell_type": "code",
   "execution_count": 24,
   "metadata": {
    "collapsed": false
   },
   "outputs": [],
   "source": [
    "#1)\n",
    "p6tbl <- mutate(p5,top10chance = rowSums(p5[, c(12,14,16)]))\n",
    "#2)\n",
    "p6tbl <- tbl_df(data.frame(api_id=p6tbl$team_api_id, ChanceAttr=p6tbl$top10chance))\n",
    "#3)\n",
    "p6tbl <- group_by(p6tbl, api_id)\n",
    "#4)\n",
    "p6tbl <- summarise(p6tbl, ChanceAttr=max(ChanceAttr))\n",
    "#5)\n",
    "p6tbl <- arrange(p6tbl, desc(ChanceAttr))\n",
    "#6)\n",
    "p6tbl <- head(p6tbl, 10)"
   ]
  },
  {
   "cell_type": "markdown",
   "metadata": {},
   "source": [
    "Retrieving team_names from table using select query :"
   ]
  },
  {
   "cell_type": "code",
   "execution_count": 25,
   "metadata": {
    "collapsed": false
   },
   "outputs": [],
   "source": [
    "chance_team_name <- NULL\n",
    "for(id in p6tbl$api_id){\n",
    "    p6 =dbGetQuery(con, paste(\"select team_long_name from team where team_api_id = \",id,\"\"))\n",
    "    chance_team_name = rbind(chance_team_name, p6)\n",
    "}\n",
    "chance_team_name <- cbind(chance_team_name, p6tbl$ChanceAttr)\n",
    "colnames(chance_team_name) <- c(\"TeamNamesByChance\",\"ByChanceAttributes\")"
   ]
  },
  {
   "cell_type": "markdown",
   "metadata": {},
   "source": [
    "Binding results to the team table :"
   ]
  },
  {
   "cell_type": "code",
   "execution_count": 26,
   "metadata": {
    "collapsed": false
   },
   "outputs": [],
   "source": [
    "team <- bind_cols(team, chance_team_name)"
   ]
  },
  {
   "cell_type": "markdown",
   "metadata": {},
   "source": [
    "<h6>Q7) Which are the top 10 teams by sum of defense attributes?</h6>"
   ]
  },
  {
   "cell_type": "markdown",
   "metadata": {},
   "source": [
    "1) Mutating sum of defense attribute rows to a new table <br>\n",
    "2) Converting to a tbl. <br>\n",
    "3) Grouping table by team_api_id <br>\n",
    "4) Summarising by taking max of defense attributes over each group in table <br>\n",
    "5) Arranging table in descending order of defense attributes. <br>\n",
    "6) Extracting top 10 records using head. "
   ]
  },
  {
   "cell_type": "code",
   "execution_count": 27,
   "metadata": {
    "collapsed": true
   },
   "outputs": [],
   "source": [
    "#1)\n",
    "p7tbl <- mutate(p5,top10def = rowSums(p5[, c(19,21,23)]))\n",
    "#2)\n",
    "p7tbl <- tbl_df(data.frame(api_id=p7tbl$team_api_id, DefAttr=p7tbl$top10def))\n",
    "#3)\n",
    "p7tbl <- group_by(p7tbl, api_id)\n",
    "#4)\n",
    "p7tbl <- summarise(p7tbl, DefAttr=max(DefAttr))\n",
    "#5)\n",
    "p7tbl <- arrange(p7tbl, desc(DefAttr))\n",
    "#6)\n",
    "p7tbl <- head(p7tbl, 10)"
   ]
  },
  {
   "cell_type": "markdown",
   "metadata": {},
   "source": [
    "Retrieving team_names from table using select query :"
   ]
  },
  {
   "cell_type": "code",
   "execution_count": 28,
   "metadata": {
    "collapsed": false
   },
   "outputs": [],
   "source": [
    "def_team_name <- NULL\n",
    "for(id in p7tbl$api_id){\n",
    "    p7 =dbGetQuery(con, paste(\"select team_long_name from team where team_api_id = \",id,\"\"))\n",
    "    def_team_name = rbind(def_team_name, p7)\n",
    "}\n",
    "def_team_name <- cbind(def_team_name, p7tbl$DefAttr)\n",
    "colnames(def_team_name) <- c(\"TeamNamesByDef\",\"byDefAtrributes\")"
   ]
  },
  {
   "cell_type": "markdown",
   "metadata": {},
   "source": [
    "Binding results to the team table :"
   ]
  },
  {
   "cell_type": "code",
   "execution_count": 29,
   "metadata": {
    "collapsed": false
   },
   "outputs": [],
   "source": [
    "team <- bind_cols(team, def_team_name)"
   ]
  },
  {
   "cell_type": "markdown",
   "metadata": {},
   "source": [
    "<h6>Q8) Which are the top 10 teams by number of scored goals?</h6>"
   ]
  },
  {
   "cell_type": "markdown",
   "metadata": {},
   "source": [
    "1) Extracting home_team and goals columns from table and converting to table. <br>\n",
    "2) Extracting away_team and goals columns from table and converting to table. <br>\n",
    "3) Binding both into 1 tbl using bind_rows.<br>\n",
    "4) Grouping by team_id and summarising by taking a sum over goals of each team group. <br>\n",
    "5) Arranging table in descending order of no. of goals. <br>\n",
    "6) Extracting top 10 records using head."
   ]
  },
  {
   "cell_type": "code",
   "execution_count": 30,
   "metadata": {
    "collapsed": false
   },
   "outputs": [],
   "source": [
    "#1)\n",
    "df1 <- data.frame(team_id=p4[,8], goals=p4[,10])\n",
    "tbl1 <- tbl_df(na.omit(df1))\n",
    "#2)\n",
    "df2 <- data.frame(team_id=p4[,9], goals=p4[,11])\n",
    "tbl2 <- tbl_df(na.omit(df2))\n",
    "#3)\n",
    "tbl1 <- bind_rows(tbl1, tbl2)\n",
    "#4)\n",
    "goals <- summarise(group_by(tbl1, team_id), goals=sum(goals))\n",
    "#5)\n",
    "goals <- arrange(goals, desc(goals))  \n",
    "#6)\n",
    "top10bygoals <- head(goals, 10)"
   ]
  },
  {
   "cell_type": "markdown",
   "metadata": {},
   "source": [
    "Retrieving team_names from table using select query :"
   ]
  },
  {
   "cell_type": "code",
   "execution_count": 31,
   "metadata": {
    "collapsed": false
   },
   "outputs": [],
   "source": [
    "goal <- NULL\n",
    "for(id in top10bygoals$team_id){\n",
    "    p9 =dbGetQuery(con, paste(\"select team_long_name from team where team_api_id = \",id,\"\"))\n",
    "    goal = rbind(goal, p9)\n",
    "}\n",
    "goal <- cbind(goal, top10bygoals$goals)\n",
    "colnames(goal) <- c(\"TeamsByGoals\",\"ByGoals\")"
   ]
  },
  {
   "cell_type": "markdown",
   "metadata": {},
   "source": [
    "Binding results to the player table :"
   ]
  },
  {
   "cell_type": "code",
   "execution_count": 32,
   "metadata": {
    "collapsed": true
   },
   "outputs": [],
   "source": [
    "team <- bind_cols(team, goal)"
   ]
  },
  {
   "cell_type": "markdown",
   "metadata": {},
   "source": [
    "Writng tables to respective CSV."
   ]
  },
  {
   "cell_type": "code",
   "execution_count": 33,
   "metadata": {
    "collapsed": false
   },
   "outputs": [],
   "source": [
    "write.csv(team, \"team.csv\")\n",
    "write.csv(player, \"player.csv\")"
   ]
  }
 ],
 "metadata": {
  "kernelspec": {
   "display_name": "R",
   "language": "R",
   "name": "ir"
  },
  "language_info": {
   "codemirror_mode": "r",
   "file_extension": ".r",
   "mimetype": "text/x-r-source",
   "name": "R",
   "pygments_lexer": "r",
   "version": "3.3.2"
  }
 },
 "nbformat": 4,
 "nbformat_minor": 2
}
