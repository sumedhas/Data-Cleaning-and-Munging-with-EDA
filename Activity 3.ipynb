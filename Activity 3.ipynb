{
 "cells": [
  {
   "cell_type": "markdown",
   "metadata": {},
   "source": [
    "# Featured Activity 3: Convert and Transform Raw Data"
   ]
  },
  {
   "cell_type": "markdown",
   "metadata": {},
   "source": [
    "Loading required libraries :"
   ]
  },
  {
   "cell_type": "code",
   "execution_count": 1,
   "metadata": {
    "collapsed": false
   },
   "outputs": [
    {
     "name": "stderr",
     "output_type": "stream",
     "text": [
      "\n",
      "Attaching package: ‘dplyr’\n",
      "\n",
      "The following objects are masked from ‘package:stats’:\n",
      "\n",
      "    filter, lag\n",
      "\n",
      "The following objects are masked from ‘package:base’:\n",
      "\n",
      "    intersect, setdiff, setequal, union\n",
      "\n"
     ]
    }
   ],
   "source": [
    "library(ggplot2)\n",
    "library(dplyr)"
   ]
  },
  {
   "cell_type": "markdown",
   "metadata": {},
   "source": [
    "Reading CSV to data frame :"
   ]
  },
  {
   "cell_type": "code",
   "execution_count": 2,
   "metadata": {
    "collapsed": false
   },
   "outputs": [],
   "source": [
    "pew <- read.csv(\"June 10-July 12, 2015 - Gaming, Jobs and Broadband - CSV.csv\")"
   ]
  },
  {
   "cell_type": "markdown",
   "metadata": {},
   "source": [
    "<h6> Topic 1: Statewise internet usage </h6>"
   ]
  },
  {
   "cell_type": "markdown",
   "metadata": {},
   "source": [
    "1) Extracting State and eminuse columns from table and converting to tbl. <br>\n",
    "2) Removing entries where eminuse is (8,9,NA) (Since 8, 9 are options for don't know and refused to answer') <br>\n",
    "3) Aggregating data where it gives total count for each combination in table."
   ]
  },
  {
   "cell_type": "code",
   "execution_count": 3,
   "metadata": {
    "collapsed": false
   },
   "outputs": [],
   "source": [
    "df <- data.frame(State=pew$state, Internet_Usage=pew$eminuse)\n",
    "dftbl <- tbl_df(df)\n",
    "dftbl <- dftbl[!dftbl$Internet_Usage %in% c(8,9, NA),]\n",
    "result <- aggregate(dftbl, by = list(dftbl$State, dftbl$Internet_Usage), FUN = length)"
   ]
  },
  {
   "cell_type": "markdown",
   "metadata": {},
   "source": [
    "<b>Question : Which state has the highest number of Internet/E-mail users?</b><br>\n",
    "<b>Hypothesis : Indiana(IN) has the highest number of Internet/E-mail users.<br>(Numbers in graph represent State numbers.)</b>"
   ]
  },
  {
   "cell_type": "markdown",
   "metadata": {},
   "source": [
    "Plotting graph using ggplot:"
   ]
  },
  {
   "cell_type": "code",
   "execution_count": 4,
   "metadata": {
    "collapsed": false,
    "scrolled": true
   },
   "outputs": [
    {
     "data": {
      "text/html": [
       "<table>\n",
       "<thead><tr><th scope=col>Group.1</th><th scope=col>Group.2</th><th scope=col>State</th><th scope=col>Internet_Usage</th></tr></thead>\n",
       "<tbody>\n",
       "\t<tr><td> 1 </td><td>1  </td><td> 33</td><td> 33</td></tr>\n",
       "\t<tr><td> 2 </td><td>1  </td><td>  8</td><td>  8</td></tr>\n",
       "\t<tr><td> 4 </td><td>1  </td><td> 27</td><td> 27</td></tr>\n",
       "\t<tr><td> 5 </td><td>1  </td><td> 13</td><td> 13</td></tr>\n",
       "\t<tr><td> 6 </td><td>1  </td><td>166</td><td>166</td></tr>\n",
       "\t<tr><td> 8 </td><td>1  </td><td> 27</td><td> 27</td></tr>\n",
       "\t<tr><td> 9 </td><td>1  </td><td> 18</td><td> 18</td></tr>\n",
       "\t<tr><td>10 </td><td>1  </td><td>  5</td><td>  5</td></tr>\n",
       "\t<tr><td>11 </td><td>1  </td><td>  6</td><td>  6</td></tr>\n",
       "\t<tr><td>12 </td><td>1  </td><td>102</td><td>102</td></tr>\n",
       "\t<tr><td>13 </td><td>1  </td><td> 45</td><td> 45</td></tr>\n",
       "\t<tr><td>15 </td><td>1  </td><td>  4</td><td>  4</td></tr>\n",
       "\t<tr><td>16 </td><td>1  </td><td> 11</td><td> 11</td></tr>\n",
       "\t<tr><td>17 </td><td>1  </td><td> 51</td><td> 51</td></tr>\n",
       "\t<tr><td>18 </td><td>1  </td><td> 43</td><td> 43</td></tr>\n",
       "\t<tr><td>19 </td><td>1  </td><td> 15</td><td> 15</td></tr>\n",
       "\t<tr><td>20 </td><td>1  </td><td> 17</td><td> 17</td></tr>\n",
       "\t<tr><td>21 </td><td>1  </td><td> 23</td><td> 23</td></tr>\n",
       "\t<tr><td>22 </td><td>1  </td><td> 24</td><td> 24</td></tr>\n",
       "\t<tr><td>23 </td><td>1  </td><td>  7</td><td>  7</td></tr>\n",
       "\t<tr><td>24 </td><td>1  </td><td> 34</td><td> 34</td></tr>\n",
       "\t<tr><td>25 </td><td>1  </td><td> 23</td><td> 23</td></tr>\n",
       "\t<tr><td>26 </td><td>1  </td><td> 59</td><td> 59</td></tr>\n",
       "\t<tr><td>27 </td><td>1  </td><td> 27</td><td> 27</td></tr>\n",
       "\t<tr><td>28 </td><td>1  </td><td> 16</td><td> 16</td></tr>\n",
       "\t<tr><td>29 </td><td>1  </td><td> 46</td><td> 46</td></tr>\n",
       "\t<tr><td>30 </td><td>1  </td><td> 10</td><td> 10</td></tr>\n",
       "\t<tr><td>31 </td><td>1  </td><td> 10</td><td> 10</td></tr>\n",
       "\t<tr><td>32 </td><td>1  </td><td>  9</td><td>  9</td></tr>\n",
       "\t<tr><td>33 </td><td>1  </td><td>  8</td><td>  8</td></tr>\n",
       "\t<tr><td>⋮</td><td>⋮</td><td>⋮</td><td>⋮</td></tr>\n",
       "\t<tr><td>24</td><td>2 </td><td> 7</td><td> 7</td></tr>\n",
       "\t<tr><td>25</td><td>2 </td><td> 5</td><td> 5</td></tr>\n",
       "\t<tr><td>26</td><td>2 </td><td>16</td><td>16</td></tr>\n",
       "\t<tr><td>27</td><td>2 </td><td> 6</td><td> 6</td></tr>\n",
       "\t<tr><td>28</td><td>2 </td><td> 4</td><td> 4</td></tr>\n",
       "\t<tr><td>29</td><td>2 </td><td> 4</td><td> 4</td></tr>\n",
       "\t<tr><td>30</td><td>2 </td><td> 1</td><td> 1</td></tr>\n",
       "\t<tr><td>31</td><td>2 </td><td> 2</td><td> 2</td></tr>\n",
       "\t<tr><td>32</td><td>2 </td><td> 1</td><td> 1</td></tr>\n",
       "\t<tr><td>34</td><td>2 </td><td> 8</td><td> 8</td></tr>\n",
       "\t<tr><td>35</td><td>2 </td><td> 3</td><td> 3</td></tr>\n",
       "\t<tr><td>36</td><td>2 </td><td>17</td><td>17</td></tr>\n",
       "\t<tr><td>37</td><td>2 </td><td>23</td><td>23</td></tr>\n",
       "\t<tr><td>38</td><td>2 </td><td> 1</td><td> 1</td></tr>\n",
       "\t<tr><td>39</td><td>2 </td><td>25</td><td>25</td></tr>\n",
       "\t<tr><td>40</td><td>2 </td><td> 3</td><td> 3</td></tr>\n",
       "\t<tr><td>41</td><td>2 </td><td> 2</td><td> 2</td></tr>\n",
       "\t<tr><td>42</td><td>2 </td><td>13</td><td>13</td></tr>\n",
       "\t<tr><td>44</td><td>2 </td><td> 1</td><td> 1</td></tr>\n",
       "\t<tr><td>45</td><td>2 </td><td> 4</td><td> 4</td></tr>\n",
       "\t<tr><td>46</td><td>2 </td><td> 2</td><td> 2</td></tr>\n",
       "\t<tr><td>47</td><td>2 </td><td> 8</td><td> 8</td></tr>\n",
       "\t<tr><td>48</td><td>2 </td><td>25</td><td>25</td></tr>\n",
       "\t<tr><td>49</td><td>2 </td><td> 1</td><td> 1</td></tr>\n",
       "\t<tr><td>50</td><td>2 </td><td> 1</td><td> 1</td></tr>\n",
       "\t<tr><td>51</td><td>2 </td><td>12</td><td>12</td></tr>\n",
       "\t<tr><td>53</td><td>2 </td><td> 2</td><td> 2</td></tr>\n",
       "\t<tr><td>54</td><td>2 </td><td> 7</td><td> 7</td></tr>\n",
       "\t<tr><td>55</td><td>2 </td><td> 7</td><td> 7</td></tr>\n",
       "\t<tr><td>56</td><td>2 </td><td> 1</td><td> 1</td></tr>\n",
       "</tbody>\n",
       "</table>\n"
      ],
      "text/latex": [
       "\\begin{tabular}{r|llll}\n",
       " Group.1 & Group.2 & State & Internet\\_Usage\\\\\n",
       "\\hline\n",
       "\t  1  & 1   &  33 &  33\\\\\n",
       "\t  2  & 1   &   8 &   8\\\\\n",
       "\t  4  & 1   &  27 &  27\\\\\n",
       "\t  5  & 1   &  13 &  13\\\\\n",
       "\t  6  & 1   & 166 & 166\\\\\n",
       "\t  8  & 1   &  27 &  27\\\\\n",
       "\t  9  & 1   &  18 &  18\\\\\n",
       "\t 10  & 1   &   5 &   5\\\\\n",
       "\t 11  & 1   &   6 &   6\\\\\n",
       "\t 12  & 1   & 102 & 102\\\\\n",
       "\t 13  & 1   &  45 &  45\\\\\n",
       "\t 15  & 1   &   4 &   4\\\\\n",
       "\t 16  & 1   &  11 &  11\\\\\n",
       "\t 17  & 1   &  51 &  51\\\\\n",
       "\t 18  & 1   &  43 &  43\\\\\n",
       "\t 19  & 1   &  15 &  15\\\\\n",
       "\t 20  & 1   &  17 &  17\\\\\n",
       "\t 21  & 1   &  23 &  23\\\\\n",
       "\t 22  & 1   &  24 &  24\\\\\n",
       "\t 23  & 1   &   7 &   7\\\\\n",
       "\t 24  & 1   &  34 &  34\\\\\n",
       "\t 25  & 1   &  23 &  23\\\\\n",
       "\t 26  & 1   &  59 &  59\\\\\n",
       "\t 27  & 1   &  27 &  27\\\\\n",
       "\t 28  & 1   &  16 &  16\\\\\n",
       "\t 29  & 1   &  46 &  46\\\\\n",
       "\t 30  & 1   &  10 &  10\\\\\n",
       "\t 31  & 1   &  10 &  10\\\\\n",
       "\t 32  & 1   &   9 &   9\\\\\n",
       "\t 33  & 1   &   8 &   8\\\\\n",
       "\t ⋮ & ⋮ & ⋮ & ⋮\\\\\n",
       "\t 24 & 2  &  7 &  7\\\\\n",
       "\t 25 & 2  &  5 &  5\\\\\n",
       "\t 26 & 2  & 16 & 16\\\\\n",
       "\t 27 & 2  &  6 &  6\\\\\n",
       "\t 28 & 2  &  4 &  4\\\\\n",
       "\t 29 & 2  &  4 &  4\\\\\n",
       "\t 30 & 2  &  1 &  1\\\\\n",
       "\t 31 & 2  &  2 &  2\\\\\n",
       "\t 32 & 2  &  1 &  1\\\\\n",
       "\t 34 & 2  &  8 &  8\\\\\n",
       "\t 35 & 2  &  3 &  3\\\\\n",
       "\t 36 & 2  & 17 & 17\\\\\n",
       "\t 37 & 2  & 23 & 23\\\\\n",
       "\t 38 & 2  &  1 &  1\\\\\n",
       "\t 39 & 2  & 25 & 25\\\\\n",
       "\t 40 & 2  &  3 &  3\\\\\n",
       "\t 41 & 2  &  2 &  2\\\\\n",
       "\t 42 & 2  & 13 & 13\\\\\n",
       "\t 44 & 2  &  1 &  1\\\\\n",
       "\t 45 & 2  &  4 &  4\\\\\n",
       "\t 46 & 2  &  2 &  2\\\\\n",
       "\t 47 & 2  &  8 &  8\\\\\n",
       "\t 48 & 2  & 25 & 25\\\\\n",
       "\t 49 & 2  &  1 &  1\\\\\n",
       "\t 50 & 2  &  1 &  1\\\\\n",
       "\t 51 & 2  & 12 & 12\\\\\n",
       "\t 53 & 2  &  2 &  2\\\\\n",
       "\t 54 & 2  &  7 &  7\\\\\n",
       "\t 55 & 2  &  7 &  7\\\\\n",
       "\t 56 & 2  &  1 &  1\\\\\n",
       "\\end{tabular}\n"
      ],
      "text/markdown": [
       "\n",
       "Group.1 | Group.2 | State | Internet_Usage | \n",
       "|---|---|---|---|---|---|---|---|---|---|---|---|---|---|---|---|---|---|---|---|---|---|---|---|---|---|---|---|---|---|---|---|---|---|---|---|---|---|---|---|---|---|---|---|---|---|---|---|---|---|---|---|---|---|---|---|---|---|---|---|---|\n",
       "|  1  | 1   |  33 |  33 | \n",
       "|  2  | 1   |   8 |   8 | \n",
       "|  4  | 1   |  27 |  27 | \n",
       "|  5  | 1   |  13 |  13 | \n",
       "|  6  | 1   | 166 | 166 | \n",
       "|  8  | 1   |  27 |  27 | \n",
       "|  9  | 1   |  18 |  18 | \n",
       "| 10  | 1   |   5 |   5 | \n",
       "| 11  | 1   |   6 |   6 | \n",
       "| 12  | 1   | 102 | 102 | \n",
       "| 13  | 1   |  45 |  45 | \n",
       "| 15  | 1   |   4 |   4 | \n",
       "| 16  | 1   |  11 |  11 | \n",
       "| 17  | 1   |  51 |  51 | \n",
       "| 18  | 1   |  43 |  43 | \n",
       "| 19  | 1   |  15 |  15 | \n",
       "| 20  | 1   |  17 |  17 | \n",
       "| 21  | 1   |  23 |  23 | \n",
       "| 22  | 1   |  24 |  24 | \n",
       "| 23  | 1   |   7 |   7 | \n",
       "| 24  | 1   |  34 |  34 | \n",
       "| 25  | 1   |  23 |  23 | \n",
       "| 26  | 1   |  59 |  59 | \n",
       "| 27  | 1   |  27 |  27 | \n",
       "| 28  | 1   |  16 |  16 | \n",
       "| 29  | 1   |  46 |  46 | \n",
       "| 30  | 1   |  10 |  10 | \n",
       "| 31  | 1   |  10 |  10 | \n",
       "| 32  | 1   |   9 |   9 | \n",
       "| 33  | 1   |   8 |   8 | \n",
       "| ⋮ | ⋮ | ⋮ | ⋮ | \n",
       "| 24 | 2  |  7 |  7 | \n",
       "| 25 | 2  |  5 |  5 | \n",
       "| 26 | 2  | 16 | 16 | \n",
       "| 27 | 2  |  6 |  6 | \n",
       "| 28 | 2  |  4 |  4 | \n",
       "| 29 | 2  |  4 |  4 | \n",
       "| 30 | 2  |  1 |  1 | \n",
       "| 31 | 2  |  2 |  2 | \n",
       "| 32 | 2  |  1 |  1 | \n",
       "| 34 | 2  |  8 |  8 | \n",
       "| 35 | 2  |  3 |  3 | \n",
       "| 36 | 2  | 17 | 17 | \n",
       "| 37 | 2  | 23 | 23 | \n",
       "| 38 | 2  |  1 |  1 | \n",
       "| 39 | 2  | 25 | 25 | \n",
       "| 40 | 2  |  3 |  3 | \n",
       "| 41 | 2  |  2 |  2 | \n",
       "| 42 | 2  | 13 | 13 | \n",
       "| 44 | 2  |  1 |  1 | \n",
       "| 45 | 2  |  4 |  4 | \n",
       "| 46 | 2  |  2 |  2 | \n",
       "| 47 | 2  |  8 |  8 | \n",
       "| 48 | 2  | 25 | 25 | \n",
       "| 49 | 2  |  1 |  1 | \n",
       "| 50 | 2  |  1 |  1 | \n",
       "| 51 | 2  | 12 | 12 | \n",
       "| 53 | 2  |  2 |  2 | \n",
       "| 54 | 2  |  7 |  7 | \n",
       "| 55 | 2  |  7 |  7 | \n",
       "| 56 | 2  |  1 |  1 | \n",
       "\n",
       "\n"
      ],
      "text/plain": [
       "    Group.1 Group.2 State Internet_Usage\n",
       "1    1      1        33    33           \n",
       "2    2      1         8     8           \n",
       "3    4      1        27    27           \n",
       "4    5      1        13    13           \n",
       "5    6      1       166   166           \n",
       "6    8      1        27    27           \n",
       "7    9      1        18    18           \n",
       "8   10      1         5     5           \n",
       "9   11      1         6     6           \n",
       "10  12      1       102   102           \n",
       "11  13      1        45    45           \n",
       "12  15      1         4     4           \n",
       "13  16      1        11    11           \n",
       "14  17      1        51    51           \n",
       "15  18      1        43    43           \n",
       "16  19      1        15    15           \n",
       "17  20      1        17    17           \n",
       "18  21      1        23    23           \n",
       "19  22      1        24    24           \n",
       "20  23      1         7     7           \n",
       "21  24      1        34    34           \n",
       "22  25      1        23    23           \n",
       "23  26      1        59    59           \n",
       "24  27      1        27    27           \n",
       "25  28      1        16    16           \n",
       "26  29      1        46    46           \n",
       "27  30      1        10    10           \n",
       "28  31      1        10    10           \n",
       "29  32      1         9     9           \n",
       "30  33      1         8     8           \n",
       "⋮   ⋮       ⋮       ⋮     ⋮             \n",
       "71  24      2        7     7            \n",
       "72  25      2        5     5            \n",
       "73  26      2       16    16            \n",
       "74  27      2        6     6            \n",
       "75  28      2        4     4            \n",
       "76  29      2        4     4            \n",
       "77  30      2        1     1            \n",
       "78  31      2        2     2            \n",
       "79  32      2        1     1            \n",
       "80  34      2        8     8            \n",
       "81  35      2        3     3            \n",
       "82  36      2       17    17            \n",
       "83  37      2       23    23            \n",
       "84  38      2        1     1            \n",
       "85  39      2       25    25            \n",
       "86  40      2        3     3            \n",
       "87  41      2        2     2            \n",
       "88  42      2       13    13            \n",
       "89  44      2        1     1            \n",
       "90  45      2        4     4            \n",
       "91  46      2        2     2            \n",
       "92  47      2        8     8            \n",
       "93  48      2       25    25            \n",
       "94  49      2        1     1            \n",
       "95  50      2        1     1            \n",
       "96  51      2       12    12            \n",
       "97  53      2        2     2            \n",
       "98  54      2        7     7            \n",
       "99  55      2        7     7            \n",
       "100 56      2        1     1            "
      ]
     },
     "metadata": {},
     "output_type": "display_data"
    },
    {
     "data": {},
     "metadata": {},
     "output_type": "display_data"
    },
    {
     "data": {
      "image/png": "[encoded data removed]",
      "text/plain": [
       "plot without title"
      ]
     },
     "metadata": {},
     "output_type": "display_data"
    }
   ],
   "source": [
    "result\n",
    "result <- within(result, States <- factor(Group.1, labels = c(\"1\",\"2\",\"3\",\"4\",\"5\",\"6\",\"7\",\"8\",\"9\",\"10\",\"11\",\"12\",\"13\",\"14\",\"15\",\"16\",\"17\",\"18\",\"19\",\"20\",\"21\",\"22\",\"23\",\"24\",\"25\",\"26\",\"27\",\"28\",\"29\",\"30\",\"31\",\"32\",\"33\",\"34\",\"35\",\"36\",\"37\",\"38\",\"39\",\"40\",\"41\",\"42\",\"43\",\"44\",\"45\",\"46\",\"47\",\"48\",\"49\",\"50\",\"51\")))\n",
    "result <- within(result, Choice <- factor(Group.2, labels = c(\"Yes\", \"No\")))\n",
    "ggplot(data=result, aes(x=States, y=State, fill=Choice)) + \n",
    "geom_bar(stat=\"identity\", position=position_dodge(), colour=\"black\") + \n",
    "labs(title =\"State vs Internet/Email Usage\", x = \"State\", y = \"Count\") +\n",
    "scale_fill_manual(values = c(\"White\", \"Black\"))"
   ]
  },
  {
   "cell_type": "markdown",
   "metadata": {},
   "source": [
    "The graph above shows the plotting between the states and number of people who use Internet/E-mail in each state. <br>\n",
    "Black represents No and White represents Yes. <br>\n",
    "One can observe that State No. 5 has the highest number of \"Yes\".<br>\n",
    "State No. 5 is Indiana. Therefore our Hypothesis is right."
   ]
  },
  {
   "cell_type": "markdown",
   "metadata": {},
   "source": [
    "<h6> Topic 2: Sex wise Dating App usage </h6>"
   ]
  },
  {
   "cell_type": "markdown",
   "metadata": {},
   "source": [
    "1) Extracting sex and date1a columns from table and converting to tbl. <br>\n",
    "2) Removing entries where date1a is (8,9,NA) (Since 8, 9 are options for don't know and refused to answer') <br>\n",
    "3) Aggregating data where it gives total count for each combination in table."
   ]
  },
  {
   "cell_type": "code",
   "execution_count": 5,
   "metadata": {
    "collapsed": false
   },
   "outputs": [
    {
     "data": {
      "text/html": [
       "<table>\n",
       "<thead><tr><th scope=col>Group.1</th><th scope=col>Group.2</th><th scope=col>Sex</th></tr></thead>\n",
       "<tbody>\n",
       "\t<tr><td>1  </td><td>1  </td><td>125</td></tr>\n",
       "\t<tr><td>2  </td><td>1  </td><td>100</td></tr>\n",
       "\t<tr><td>1  </td><td>2  </td><td>736</td></tr>\n",
       "\t<tr><td>2  </td><td>2  </td><td>777</td></tr>\n",
       "</tbody>\n",
       "</table>\n"
      ],
      "text/latex": [
       "\\begin{tabular}{r|lll}\n",
       " Group.1 & Group.2 & Sex\\\\\n",
       "\\hline\n",
       "\t 1   & 1   & 125\\\\\n",
       "\t 2   & 1   & 100\\\\\n",
       "\t 1   & 2   & 736\\\\\n",
       "\t 2   & 2   & 777\\\\\n",
       "\\end{tabular}\n"
      ],
      "text/markdown": [
       "\n",
       "Group.1 | Group.2 | Sex | \n",
       "|---|---|---|---|\n",
       "| 1   | 1   | 125 | \n",
       "| 2   | 1   | 100 | \n",
       "| 1   | 2   | 736 | \n",
       "| 2   | 2   | 777 | \n",
       "\n",
       "\n"
      ],
      "text/plain": [
       "  Group.1 Group.2 Sex\n",
       "1 1       1       125\n",
       "2 2       1       100\n",
       "3 1       2       736\n",
       "4 2       2       777"
      ]
     },
     "metadata": {},
     "output_type": "display_data"
    }
   ],
   "source": [
    "df2 <- data.frame(Sex=pew$sex, Dating=pew$date1a)\n",
    "df2tbl <- tbl_df(df2)\n",
    "df2tbl <- df2tbl[!df2tbl$Dating %in% c(8,9, NA),]\n",
    "result2 <- aggregate(df2tbl, by = list(df2tbl$Sex, df2tbl$Dating), FUN = length)\n",
    "result2 <- within(result2, rm(Dating))\n",
    "result2"
   ]
  },
  {
   "cell_type": "markdown",
   "metadata": {},
   "source": [
    "<b>Question : Do Males or Females use the dating app more?</b><br>\n",
    "<b>Hypothesis : Relatively Males have used Dating Application more than Females</b>"
   ]
  },
  {
   "cell_type": "markdown",
   "metadata": {},
   "source": [
    "Plotting graph using ggplot:"
   ]
  },
  {
   "cell_type": "code",
   "execution_count": 6,
   "metadata": {
    "collapsed": false,
    "scrolled": true
   },
   "outputs": [
    {
     "data": {},
     "metadata": {},
     "output_type": "display_data"
    },
    {
     "data": {
      "image/png": "[encoded data removed]",
      "text/plain": [
       "plot without title"
      ]
     },
     "metadata": {},
     "output_type": "display_data"
    }
   ],
   "source": [
    "result2 <- within(result2, Group.1 <- factor(Group.1, labels = c(\"Female\", \"Male\")))\n",
    "result2 <- within(result2, Choice <- factor(Group.2, labels = c(\"No\", \"Yes\")))\n",
    "ggplot(data=result2, aes(x=Group.1, y=Sex, fill=Choice)) + \n",
    "geom_bar(stat=\"identity\", position=position_dodge(), colour=\"black\") +\n",
    "labs(title =\"Sex vs Dating App Usage\", x = \"Sex\", y=\"Count\")+\n",
    "scale_fill_manual(values = c(\"#999999\", \"#E69F00\"))"
   ]
  },
  {
   "cell_type": "markdown",
   "metadata": {},
   "source": [
    "The above graph shows the plot between Sex and the count of Dating App users. <br>\n",
    "Grey represents \"No\" and yellow represents \"Yes\". <br>\n",
    "We can observe that Males have a higher Yellow column than Females.<br>\n",
    "Therefore our hypothesis is right that men use the dating app more than women do.<br>\n",
    "Another observation is that more number of Females answered No than Males. Which further strengthens our hypothesis."
   ]
  },
  {
   "cell_type": "markdown",
   "metadata": {},
   "source": [
    "<h6>Topic 3: Agewise Game Play</h6>"
   ]
  },
  {
   "cell_type": "markdown",
   "metadata": {},
   "source": [
    "1) Extracting Age and game1 columns from table and converting to tbl. <br>\n",
    "2) Removing entries where date1a is (8,9,NA) (Since 8, 9 are options for don't know and refused to answer') <br>\n",
    "3) Aggregating data where it gives total count for each combination in table."
   ]
  },
  {
   "cell_type": "code",
   "execution_count": 7,
   "metadata": {
    "collapsed": false
   },
   "outputs": [],
   "source": [
    "df3 <- data.frame(Age=pew$age, Game=pew$game1)\n",
    "df3tbl <- tbl_df(df3)\n",
    "df3tbl <- df3tbl[!df3tbl$Game %in% c(8,9, NA),]\n",
    "result3 <- aggregate(df3tbl, by = list(df3tbl$Age, df3tbl$Game), FUN = length)"
   ]
  },
  {
   "cell_type": "markdown",
   "metadata": {},
   "source": [
    "<b>Question : Which age group has the highest number of people playing games?</b><br>\n",
    "<b>Hypothesis : Highest number of game players are aged around 25 to 27</b>"
   ]
  },
  {
   "cell_type": "markdown",
   "metadata": {},
   "source": [
    "Plotting graph using ggplot:"
   ]
  },
  {
   "cell_type": "code",
   "execution_count": 8,
   "metadata": {
    "collapsed": false
   },
   "outputs": [
    {
     "data": {
      "text/html": [
       "<table>\n",
       "<thead><tr><th scope=col>Group.1</th><th scope=col>Group.2</th><th scope=col>Age</th><th scope=col>Game</th><th scope=col>Choice</th></tr></thead>\n",
       "<tbody>\n",
       "\t<tr><td>18 </td><td>1  </td><td>16 </td><td>16 </td><td>Yes</td></tr>\n",
       "\t<tr><td>19 </td><td>1  </td><td>20 </td><td>20 </td><td>Yes</td></tr>\n",
       "\t<tr><td>20 </td><td>1  </td><td>18 </td><td>18 </td><td>Yes</td></tr>\n",
       "\t<tr><td>21 </td><td>1  </td><td>15 </td><td>15 </td><td>Yes</td></tr>\n",
       "\t<tr><td>22 </td><td>1  </td><td>24 </td><td>24 </td><td>Yes</td></tr>\n",
       "\t<tr><td>23 </td><td>1  </td><td>19 </td><td>19 </td><td>Yes</td></tr>\n",
       "\t<tr><td>24 </td><td>1  </td><td>21 </td><td>21 </td><td>Yes</td></tr>\n",
       "\t<tr><td>25 </td><td>1  </td><td>20 </td><td>20 </td><td>Yes</td></tr>\n",
       "\t<tr><td>26 </td><td>1  </td><td>27 </td><td>27 </td><td>Yes</td></tr>\n",
       "\t<tr><td>27 </td><td>1  </td><td>9  </td><td> 9 </td><td>Yes</td></tr>\n",
       "\t<tr><td>28 </td><td>1  </td><td>15 </td><td>15 </td><td>Yes</td></tr>\n",
       "\t<tr><td>29 </td><td>1  </td><td>15 </td><td>15 </td><td>Yes</td></tr>\n",
       "\t<tr><td>30 </td><td>1  </td><td>25 </td><td>25 </td><td>Yes</td></tr>\n",
       "\t<tr><td>31 </td><td>1  </td><td>18 </td><td>18 </td><td>Yes</td></tr>\n",
       "\t<tr><td>32 </td><td>1  </td><td>18 </td><td>18 </td><td>Yes</td></tr>\n",
       "\t<tr><td>33 </td><td>1  </td><td>12 </td><td>12 </td><td>Yes</td></tr>\n",
       "\t<tr><td>34 </td><td>1  </td><td>12 </td><td>12 </td><td>Yes</td></tr>\n",
       "\t<tr><td>35 </td><td>1  </td><td>18 </td><td>18 </td><td>Yes</td></tr>\n",
       "\t<tr><td>36 </td><td>1  </td><td>13 </td><td>13 </td><td>Yes</td></tr>\n",
       "\t<tr><td>37 </td><td>1  </td><td>13 </td><td>13 </td><td>Yes</td></tr>\n",
       "\t<tr><td>38 </td><td>1  </td><td>15 </td><td>15 </td><td>Yes</td></tr>\n",
       "\t<tr><td>39 </td><td>1  </td><td>10 </td><td>10 </td><td>Yes</td></tr>\n",
       "\t<tr><td>40 </td><td>1  </td><td>16 </td><td>16 </td><td>Yes</td></tr>\n",
       "\t<tr><td>41 </td><td>1  </td><td>7  </td><td> 7 </td><td>Yes</td></tr>\n",
       "\t<tr><td>42 </td><td>1  </td><td>14 </td><td>14 </td><td>Yes</td></tr>\n",
       "\t<tr><td>43 </td><td>1  </td><td>14 </td><td>14 </td><td>Yes</td></tr>\n",
       "\t<tr><td>44 </td><td>1  </td><td>20 </td><td>20 </td><td>Yes</td></tr>\n",
       "\t<tr><td>45 </td><td>1  </td><td>18 </td><td>18 </td><td>Yes</td></tr>\n",
       "\t<tr><td>46 </td><td>1  </td><td>11 </td><td>11 </td><td>Yes</td></tr>\n",
       "\t<tr><td>47 </td><td>1  </td><td>16 </td><td>16 </td><td>Yes</td></tr>\n",
       "\t<tr><td>⋮</td><td>⋮</td><td>⋮</td><td>⋮</td><td>⋮</td></tr>\n",
       "\t<tr><td>68</td><td>2 </td><td>25</td><td>25</td><td>No</td></tr>\n",
       "\t<tr><td>69</td><td>2 </td><td>13</td><td>13</td><td>No</td></tr>\n",
       "\t<tr><td>70</td><td>2 </td><td>28</td><td>28</td><td>No</td></tr>\n",
       "\t<tr><td>71</td><td>2 </td><td>12</td><td>12</td><td>No</td></tr>\n",
       "\t<tr><td>72</td><td>2 </td><td>34</td><td>34</td><td>No</td></tr>\n",
       "\t<tr><td>73</td><td>2 </td><td>20</td><td>20</td><td>No</td></tr>\n",
       "\t<tr><td>74</td><td>2 </td><td>10</td><td>10</td><td>No</td></tr>\n",
       "\t<tr><td>75</td><td>2 </td><td>15</td><td>15</td><td>No</td></tr>\n",
       "\t<tr><td>76</td><td>2 </td><td>12</td><td>12</td><td>No</td></tr>\n",
       "\t<tr><td>77</td><td>2 </td><td>7 </td><td> 7</td><td>No</td></tr>\n",
       "\t<tr><td>78</td><td>2 </td><td>8 </td><td> 8</td><td>No</td></tr>\n",
       "\t<tr><td>79</td><td>2 </td><td>13</td><td>13</td><td>No</td></tr>\n",
       "\t<tr><td>80</td><td>2 </td><td>22</td><td>22</td><td>No</td></tr>\n",
       "\t<tr><td>81</td><td>2 </td><td>11</td><td>11</td><td>No</td></tr>\n",
       "\t<tr><td>82</td><td>2 </td><td>7 </td><td> 7</td><td>No</td></tr>\n",
       "\t<tr><td>83</td><td>2 </td><td>12</td><td>12</td><td>No</td></tr>\n",
       "\t<tr><td>84</td><td>2 </td><td>6 </td><td> 6</td><td>No</td></tr>\n",
       "\t<tr><td>85</td><td>2 </td><td>9 </td><td> 9</td><td>No</td></tr>\n",
       "\t<tr><td>86</td><td>2 </td><td>9 </td><td> 9</td><td>No</td></tr>\n",
       "\t<tr><td>87</td><td>2 </td><td>4 </td><td> 4</td><td>No</td></tr>\n",
       "\t<tr><td>88</td><td>2 </td><td>5 </td><td> 5</td><td>No</td></tr>\n",
       "\t<tr><td>89</td><td>2 </td><td>2 </td><td> 2</td><td>No</td></tr>\n",
       "\t<tr><td>90</td><td>2 </td><td>3 </td><td> 3</td><td>No</td></tr>\n",
       "\t<tr><td>91</td><td>2 </td><td>1 </td><td> 1</td><td>No</td></tr>\n",
       "\t<tr><td>92</td><td>2 </td><td>1 </td><td> 1</td><td>No</td></tr>\n",
       "\t<tr><td>93</td><td>2 </td><td>2 </td><td> 2</td><td>No</td></tr>\n",
       "\t<tr><td>96</td><td>2 </td><td>1 </td><td> 1</td><td>No</td></tr>\n",
       "\t<tr><td>97</td><td>2 </td><td>1 </td><td> 1</td><td>No</td></tr>\n",
       "\t<tr><td>98</td><td>2 </td><td>1 </td><td> 1</td><td>No</td></tr>\n",
       "\t<tr><td>99</td><td>2 </td><td>25</td><td>25</td><td>No</td></tr>\n",
       "</tbody>\n",
       "</table>\n"
      ],
      "text/latex": [
       "\\begin{tabular}{r|lllll}\n",
       " Group.1 & Group.2 & Age & Game & Choice\\\\\n",
       "\\hline\n",
       "\t 18  & 1   & 16  & 16  & Yes\\\\\n",
       "\t 19  & 1   & 20  & 20  & Yes\\\\\n",
       "\t 20  & 1   & 18  & 18  & Yes\\\\\n",
       "\t 21  & 1   & 15  & 15  & Yes\\\\\n",
       "\t 22  & 1   & 24  & 24  & Yes\\\\\n",
       "\t 23  & 1   & 19  & 19  & Yes\\\\\n",
       "\t 24  & 1   & 21  & 21  & Yes\\\\\n",
       "\t 25  & 1   & 20  & 20  & Yes\\\\\n",
       "\t 26  & 1   & 27  & 27  & Yes\\\\\n",
       "\t 27  & 1   & 9   &  9  & Yes\\\\\n",
       "\t 28  & 1   & 15  & 15  & Yes\\\\\n",
       "\t 29  & 1   & 15  & 15  & Yes\\\\\n",
       "\t 30  & 1   & 25  & 25  & Yes\\\\\n",
       "\t 31  & 1   & 18  & 18  & Yes\\\\\n",
       "\t 32  & 1   & 18  & 18  & Yes\\\\\n",
       "\t 33  & 1   & 12  & 12  & Yes\\\\\n",
       "\t 34  & 1   & 12  & 12  & Yes\\\\\n",
       "\t 35  & 1   & 18  & 18  & Yes\\\\\n",
       "\t 36  & 1   & 13  & 13  & Yes\\\\\n",
       "\t 37  & 1   & 13  & 13  & Yes\\\\\n",
       "\t 38  & 1   & 15  & 15  & Yes\\\\\n",
       "\t 39  & 1   & 10  & 10  & Yes\\\\\n",
       "\t 40  & 1   & 16  & 16  & Yes\\\\\n",
       "\t 41  & 1   & 7   &  7  & Yes\\\\\n",
       "\t 42  & 1   & 14  & 14  & Yes\\\\\n",
       "\t 43  & 1   & 14  & 14  & Yes\\\\\n",
       "\t 44  & 1   & 20  & 20  & Yes\\\\\n",
       "\t 45  & 1   & 18  & 18  & Yes\\\\\n",
       "\t 46  & 1   & 11  & 11  & Yes\\\\\n",
       "\t 47  & 1   & 16  & 16  & Yes\\\\\n",
       "\t ⋮ & ⋮ & ⋮ & ⋮ & ⋮\\\\\n",
       "\t 68 & 2  & 25 & 25 & No\\\\\n",
       "\t 69 & 2  & 13 & 13 & No\\\\\n",
       "\t 70 & 2  & 28 & 28 & No\\\\\n",
       "\t 71 & 2  & 12 & 12 & No\\\\\n",
       "\t 72 & 2  & 34 & 34 & No\\\\\n",
       "\t 73 & 2  & 20 & 20 & No\\\\\n",
       "\t 74 & 2  & 10 & 10 & No\\\\\n",
       "\t 75 & 2  & 15 & 15 & No\\\\\n",
       "\t 76 & 2  & 12 & 12 & No\\\\\n",
       "\t 77 & 2  & 7  &  7 & No\\\\\n",
       "\t 78 & 2  & 8  &  8 & No\\\\\n",
       "\t 79 & 2  & 13 & 13 & No\\\\\n",
       "\t 80 & 2  & 22 & 22 & No\\\\\n",
       "\t 81 & 2  & 11 & 11 & No\\\\\n",
       "\t 82 & 2  & 7  &  7 & No\\\\\n",
       "\t 83 & 2  & 12 & 12 & No\\\\\n",
       "\t 84 & 2  & 6  &  6 & No\\\\\n",
       "\t 85 & 2  & 9  &  9 & No\\\\\n",
       "\t 86 & 2  & 9  &  9 & No\\\\\n",
       "\t 87 & 2  & 4  &  4 & No\\\\\n",
       "\t 88 & 2  & 5  &  5 & No\\\\\n",
       "\t 89 & 2  & 2  &  2 & No\\\\\n",
       "\t 90 & 2  & 3  &  3 & No\\\\\n",
       "\t 91 & 2  & 1  &  1 & No\\\\\n",
       "\t 92 & 2  & 1  &  1 & No\\\\\n",
       "\t 93 & 2  & 2  &  2 & No\\\\\n",
       "\t 96 & 2  & 1  &  1 & No\\\\\n",
       "\t 97 & 2  & 1  &  1 & No\\\\\n",
       "\t 98 & 2  & 1  &  1 & No\\\\\n",
       "\t 99 & 2  & 25 & 25 & No\\\\\n",
       "\\end{tabular}\n"
      ],
      "text/markdown": [
       "\n",
       "Group.1 | Group.2 | Age | Game | Choice | \n",
       "|---|---|---|---|---|---|---|---|---|---|---|---|---|---|---|---|---|---|---|---|---|---|---|---|---|---|---|---|---|---|---|---|---|---|---|---|---|---|---|---|---|---|---|---|---|---|---|---|---|---|---|---|---|---|---|---|---|---|---|---|---|\n",
       "| 18  | 1   | 16  | 16  | Yes | \n",
       "| 19  | 1   | 20  | 20  | Yes | \n",
       "| 20  | 1   | 18  | 18  | Yes | \n",
       "| 21  | 1   | 15  | 15  | Yes | \n",
       "| 22  | 1   | 24  | 24  | Yes | \n",
       "| 23  | 1   | 19  | 19  | Yes | \n",
       "| 24  | 1   | 21  | 21  | Yes | \n",
       "| 25  | 1   | 20  | 20  | Yes | \n",
       "| 26  | 1   | 27  | 27  | Yes | \n",
       "| 27  | 1   | 9   |  9  | Yes | \n",
       "| 28  | 1   | 15  | 15  | Yes | \n",
       "| 29  | 1   | 15  | 15  | Yes | \n",
       "| 30  | 1   | 25  | 25  | Yes | \n",
       "| 31  | 1   | 18  | 18  | Yes | \n",
       "| 32  | 1   | 18  | 18  | Yes | \n",
       "| 33  | 1   | 12  | 12  | Yes | \n",
       "| 34  | 1   | 12  | 12  | Yes | \n",
       "| 35  | 1   | 18  | 18  | Yes | \n",
       "| 36  | 1   | 13  | 13  | Yes | \n",
       "| 37  | 1   | 13  | 13  | Yes | \n",
       "| 38  | 1   | 15  | 15  | Yes | \n",
       "| 39  | 1   | 10  | 10  | Yes | \n",
       "| 40  | 1   | 16  | 16  | Yes | \n",
       "| 41  | 1   | 7   |  7  | Yes | \n",
       "| 42  | 1   | 14  | 14  | Yes | \n",
       "| 43  | 1   | 14  | 14  | Yes | \n",
       "| 44  | 1   | 20  | 20  | Yes | \n",
       "| 45  | 1   | 18  | 18  | Yes | \n",
       "| 46  | 1   | 11  | 11  | Yes | \n",
       "| 47  | 1   | 16  | 16  | Yes | \n",
       "| ⋮ | ⋮ | ⋮ | ⋮ | ⋮ | \n",
       "| 68 | 2  | 25 | 25 | No | \n",
       "| 69 | 2  | 13 | 13 | No | \n",
       "| 70 | 2  | 28 | 28 | No | \n",
       "| 71 | 2  | 12 | 12 | No | \n",
       "| 72 | 2  | 34 | 34 | No | \n",
       "| 73 | 2  | 20 | 20 | No | \n",
       "| 74 | 2  | 10 | 10 | No | \n",
       "| 75 | 2  | 15 | 15 | No | \n",
       "| 76 | 2  | 12 | 12 | No | \n",
       "| 77 | 2  | 7  |  7 | No | \n",
       "| 78 | 2  | 8  |  8 | No | \n",
       "| 79 | 2  | 13 | 13 | No | \n",
       "| 80 | 2  | 22 | 22 | No | \n",
       "| 81 | 2  | 11 | 11 | No | \n",
       "| 82 | 2  | 7  |  7 | No | \n",
       "| 83 | 2  | 12 | 12 | No | \n",
       "| 84 | 2  | 6  |  6 | No | \n",
       "| 85 | 2  | 9  |  9 | No | \n",
       "| 86 | 2  | 9  |  9 | No | \n",
       "| 87 | 2  | 4  |  4 | No | \n",
       "| 88 | 2  | 5  |  5 | No | \n",
       "| 89 | 2  | 2  |  2 | No | \n",
       "| 90 | 2  | 3  |  3 | No | \n",
       "| 91 | 2  | 1  |  1 | No | \n",
       "| 92 | 2  | 1  |  1 | No | \n",
       "| 93 | 2  | 2  |  2 | No | \n",
       "| 96 | 2  | 1  |  1 | No | \n",
       "| 97 | 2  | 1  |  1 | No | \n",
       "| 98 | 2  | 1  |  1 | No | \n",
       "| 99 | 2  | 25 | 25 | No | \n",
       "\n",
       "\n"
      ],
      "text/plain": [
       "    Group.1 Group.2 Age Game Choice\n",
       "1   18      1       16  16   Yes   \n",
       "2   19      1       20  20   Yes   \n",
       "3   20      1       18  18   Yes   \n",
       "4   21      1       15  15   Yes   \n",
       "5   22      1       24  24   Yes   \n",
       "6   23      1       19  19   Yes   \n",
       "7   24      1       21  21   Yes   \n",
       "8   25      1       20  20   Yes   \n",
       "9   26      1       27  27   Yes   \n",
       "10  27      1       9    9   Yes   \n",
       "11  28      1       15  15   Yes   \n",
       "12  29      1       15  15   Yes   \n",
       "13  30      1       25  25   Yes   \n",
       "14  31      1       18  18   Yes   \n",
       "15  32      1       18  18   Yes   \n",
       "16  33      1       12  12   Yes   \n",
       "17  34      1       12  12   Yes   \n",
       "18  35      1       18  18   Yes   \n",
       "19  36      1       13  13   Yes   \n",
       "20  37      1       13  13   Yes   \n",
       "21  38      1       15  15   Yes   \n",
       "22  39      1       10  10   Yes   \n",
       "23  40      1       16  16   Yes   \n",
       "24  41      1       7    7   Yes   \n",
       "25  42      1       14  14   Yes   \n",
       "26  43      1       14  14   Yes   \n",
       "27  44      1       20  20   Yes   \n",
       "28  45      1       18  18   Yes   \n",
       "29  46      1       11  11   Yes   \n",
       "30  47      1       16  16   Yes   \n",
       "⋮   ⋮       ⋮       ⋮   ⋮    ⋮     \n",
       "122 68      2       25  25   No    \n",
       "123 69      2       13  13   No    \n",
       "124 70      2       28  28   No    \n",
       "125 71      2       12  12   No    \n",
       "126 72      2       34  34   No    \n",
       "127 73      2       20  20   No    \n",
       "128 74      2       10  10   No    \n",
       "129 75      2       15  15   No    \n",
       "130 76      2       12  12   No    \n",
       "131 77      2       7    7   No    \n",
       "132 78      2       8    8   No    \n",
       "133 79      2       13  13   No    \n",
       "134 80      2       22  22   No    \n",
       "135 81      2       11  11   No    \n",
       "136 82      2       7    7   No    \n",
       "137 83      2       12  12   No    \n",
       "138 84      2       6    6   No    \n",
       "139 85      2       9    9   No    \n",
       "140 86      2       9    9   No    \n",
       "141 87      2       4    4   No    \n",
       "142 88      2       5    5   No    \n",
       "143 89      2       2    2   No    \n",
       "144 90      2       3    3   No    \n",
       "145 91      2       1    1   No    \n",
       "146 92      2       1    1   No    \n",
       "147 93      2       2    2   No    \n",
       "148 96      2       1    1   No    \n",
       "149 97      2       1    1   No    \n",
       "150 98      2       1    1   No    \n",
       "151 99      2       25  25   No    "
      ]
     },
     "metadata": {},
     "output_type": "display_data"
    },
    {
     "data": {},
     "metadata": {},
     "output_type": "display_data"
    },
    {
     "data": {
      "image/png": "[encoded data removed]",
      "text/plain": [
       "plot without title"
      ]
     },
     "metadata": {},
     "output_type": "display_data"
    }
   ],
   "source": [
    "result3 <- within(result3, Age <- factor(Age), Group.1 <- factor(Group.1))\n",
    "result3 <- within(result3, Choice <- factor(Group.2, labels = c(\"Yes\", \"No\")))\n",
    "result3\n",
    "ggplot(data=result3, aes(x=Group.1, y=Age, fill=Choice)) + \n",
    "geom_bar(stat=\"identity\", position=position_dodge(), colour=\"black\") +labs(title =\"Age vs Game Play usage\", x = \"Age\", y = \"Game Play Usage\")+\n",
    "scale_fill_manual(values = c(\"Green\", \"Black\"))"
   ]
  },
  {
   "cell_type": "markdown",
   "metadata": {},
   "source": [
    "The above graph is a plot between Age and people who play Games.<br>\n",
    "Green represents Yes and Black represents No.<br>\n",
    "We can observe that the green columns are higher in the range of 22-27.<br>\n",
    "Therefore our hypothesis is right that people aged aroung 25-27 relatively play more games than others."
   ]
  },
  {
   "cell_type": "markdown",
   "metadata": {},
   "source": [
    "<h6>Topic 4 : Party Wise Ditribution</h6>"
   ]
  },
  {
   "cell_type": "markdown",
   "metadata": {},
   "source": [
    "1) Extracting party columns from table and converting to tbl. <br>\n",
    "2) Removing entries where date1a is (8,9,NA) (Since 8, 9 are options for don't know and refused to answer') <br>\n",
    "3) Group data by party and summarise where it gives total count for number of times a party appears in a particular group."
   ]
  },
  {
   "cell_type": "code",
   "execution_count": 9,
   "metadata": {
    "collapsed": false
   },
   "outputs": [],
   "source": [
    "df4 <- data.frame(Party = pew$party)\n",
    "df4tbl <- tbl_df(df4)\n",
    "df4tbl <- df4tbl[!df4tbl$Party %in% c(8,9, NA),]\n",
    "df4tbl <- summarise(group_by(df4tbl, Party), Count=length(Party))"
   ]
  },
  {
   "cell_type": "markdown",
   "metadata": {},
   "source": [
    "<b>Question : Which party has the highest number of supporters?</b><br>\n",
    "<b>Hypothesis : Most of the people are Independent Party supporters</b>"
   ]
  },
  {
   "cell_type": "markdown",
   "metadata": {},
   "source": [
    "Plotting graph using ggplot:"
   ]
  },
  {
   "cell_type": "code",
   "execution_count": 10,
   "metadata": {
    "collapsed": false
   },
   "outputs": [
    {
     "data": {
      "text/html": [
       "<table>\n",
       "<thead><tr><th scope=col>Party</th><th scope=col>Count</th></tr></thead>\n",
       "<tbody>\n",
       "\t<tr><td>Republican </td><td>443        </td></tr>\n",
       "\t<tr><td>Democratic </td><td>617        </td></tr>\n",
       "\t<tr><td>Independent</td><td>686        </td></tr>\n",
       "\t<tr><td>None       </td><td>144        </td></tr>\n",
       "\t<tr><td>Other      </td><td>14         </td></tr>\n",
       "</tbody>\n",
       "</table>\n"
      ],
      "text/latex": [
       "\\begin{tabular}{r|ll}\n",
       " Party & Count\\\\\n",
       "\\hline\n",
       "\t Republican  & 443        \\\\\n",
       "\t Democratic  & 617        \\\\\n",
       "\t Independent & 686        \\\\\n",
       "\t None        & 144        \\\\\n",
       "\t Other       & 14         \\\\\n",
       "\\end{tabular}\n"
      ],
      "text/markdown": [
       "\n",
       "Party | Count | \n",
       "|---|---|---|---|---|\n",
       "| Republican  | 443         | \n",
       "| Democratic  | 617         | \n",
       "| Independent | 686         | \n",
       "| None        | 144         | \n",
       "| Other       | 14          | \n",
       "\n",
       "\n"
      ],
      "text/plain": [
       "  Party       Count\n",
       "1 Republican  443  \n",
       "2 Democratic  617  \n",
       "3 Independent 686  \n",
       "4 None        144  \n",
       "5 Other       14   "
      ]
     },
     "metadata": {},
     "output_type": "display_data"
    },
    {
     "data": {},
     "metadata": {},
     "output_type": "display_data"
    },
    {
     "data": {
      "image/png": "[encoded data removed]",
      "text/plain": [
       "plot without title"
      ]
     },
     "metadata": {},
     "output_type": "display_data"
    }
   ],
   "source": [
    "df4tbl <- within(df4tbl, Count <- factor(Count))\n",
    "df4tbl <- within(df4tbl, Party <- factor(Party, labels = c(\"Republican\",\"Democratic\",\"Independent\",\"None\", \"Other\")))\n",
    "df4tbl\n",
    "ggplot(data=df4tbl, aes(x=Party, y=Count)) + geom_bar(stat=\"identity\", fill=\"Dark blue\") + labs(title =\"Political Party Supporters\") "
   ]
  },
  {
   "cell_type": "markdown",
   "metadata": {},
   "source": [
    "The above graph is a plot for the the number of people who support diffrent polititcal parties. <br>\n",
    "We can observe that Independent party has the highest count.<br>\n",
    "Therefore our hypothesis is right that people support Independent party more than any other political party."
   ]
  },
  {
   "cell_type": "markdown",
   "metadata": {},
   "source": [
    "<h6>Topic 5 : Highest level of education recieved</h6>"
   ]
  },
  {
   "cell_type": "markdown",
   "metadata": {},
   "source": [
    "1) Extracting education columns from table and converting to tbl. <br>\n",
    "2) Removing entries where date1a is (8,9,NA) (Since 8, 9 are options for don't know and refused to answer') <br>\n",
    "3) Group data by education value and summarise where it gives total count for number of times a value appears in a particular group."
   ]
  },
  {
   "cell_type": "code",
   "execution_count": 11,
   "metadata": {
    "collapsed": false
   },
   "outputs": [],
   "source": [
    "df5 <- data.frame(Education=pew$educ2)\n",
    "df5tbl <- tbl_df(df5)\n",
    "df5tbl <- df5tbl[!df5tbl$Education %in% c(98,99, NA),]\n",
    "df5tbl <- summarise(group_by(df5tbl, Education), Count=length(Education))\n",
    "df5tbl<-data.frame(df5tbl)"
   ]
  },
  {
   "cell_type": "markdown",
   "metadata": {},
   "source": [
    "<b>Question: What is the variation of the highest level of education completed by people?</b><br>\n",
    "<b>Hypothesis : Most of the people have completed High School Eductaion.</b>"
   ]
  },
  {
   "cell_type": "markdown",
   "metadata": {},
   "source": [
    "Plotting graph using ggplot:"
   ]
  },
  {
   "cell_type": "code",
   "execution_count": 12,
   "metadata": {
    "collapsed": false
   },
   "outputs": [
    {
     "data": {
      "text/html": [
       "<table>\n",
       "<thead><tr><th scope=col>Education</th><th scope=col>Count</th></tr></thead>\n",
       "<tbody>\n",
       "\t<tr><td><span style=white-space:pre-wrap>&lt;HS         </span></td><td>66                                                     </td></tr>\n",
       "\t<tr><td>HS Inc      </td><td>86          </td></tr>\n",
       "\t<tr><td>HS Grad     </td><td>483         </td></tr>\n",
       "\t<tr><td>Coll ongoing</td><td>340         </td></tr>\n",
       "\t<tr><td>Assoc. deg  </td><td>183         </td></tr>\n",
       "\t<tr><td>Bach deg    </td><td>410         </td></tr>\n",
       "\t<tr><td>PG ongoing  </td><td>36          </td></tr>\n",
       "\t<tr><td>PG          </td><td>377         </td></tr>\n",
       "</tbody>\n",
       "</table>\n"
      ],
      "text/latex": [
       "\\begin{tabular}{r|ll}\n",
       " Education & Count\\\\\n",
       "\\hline\n",
       "\t <HS          & 66          \\\\\n",
       "\t HS Inc       & 86          \\\\\n",
       "\t HS Grad      & 483         \\\\\n",
       "\t Coll ongoing & 340         \\\\\n",
       "\t Assoc. deg   & 183         \\\\\n",
       "\t Bach deg     & 410         \\\\\n",
       "\t PG ongoing   & 36          \\\\\n",
       "\t PG           & 377         \\\\\n",
       "\\end{tabular}\n"
      ],
      "text/markdown": [
       "\n",
       "Education | Count | \n",
       "|---|---|---|---|---|---|---|---|\n",
       "| <HS          | 66           | \n",
       "| HS Inc       | 86           | \n",
       "| HS Grad      | 483          | \n",
       "| Coll ongoing | 340          | \n",
       "| Assoc. deg   | 183          | \n",
       "| Bach deg     | 410          | \n",
       "| PG ongoing   | 36           | \n",
       "| PG           | 377          | \n",
       "\n",
       "\n"
      ],
      "text/plain": [
       "  Education    Count\n",
       "1 <HS          66   \n",
       "2 HS Inc       86   \n",
       "3 HS Grad      483  \n",
       "4 Coll ongoing 340  \n",
       "5 Assoc. deg   183  \n",
       "6 Bach deg     410  \n",
       "7 PG ongoing   36   \n",
       "8 PG           377  "
      ]
     },
     "metadata": {},
     "output_type": "display_data"
    },
    {
     "data": {},
     "metadata": {},
     "output_type": "display_data"
    },
    {
     "data": {
      "image/png": "[encoded data removed]",
      "text/plain": [
       "plot without title"
      ]
     },
     "metadata": {},
     "output_type": "display_data"
    }
   ],
   "source": [
    "df5tbl <- within(df5tbl, Count <- factor(Count))\n",
    "df5tbl <- within( df5tbl, Education <- factor(Education,labels = c(\"<HS\",\"HS Inc\",\"HS Grad\",\"Coll ongoing\",\"Assoc. deg\", \"Bach deg\",\"PG ongoing\",\"PG\")))\n",
    "df5tbl\n",
    "ggplot(data=df5tbl, aes(x=Education, y=Count)) + geom_bar(stat=\"identity\", fill=\"light green\") + labs(title =\"Level of Education\")"
   ]
  },
  {
   "cell_type": "markdown",
   "metadata": {},
   "source": [
    "The above graph is a plot for the highest level of education completed by people.<br>\n",
    "The graph shows that people who have completed High school education are mre than any other kind of education.<br>\n",
    "Therefore our hypothesis is right that most of the people have completed their high school education. "
   ]
  }
 ],
 "metadata": {
  "kernelspec": {
   "display_name": "R",
   "language": "R",
   "name": "ir"
  },
  "language_info": {
   "codemirror_mode": "r",
   "file_extension": ".r",
   "mimetype": "text/x-r-source",
   "name": "R",
   "pygments_lexer": "r",
   "version": "3.3.2"
  }
 },
 "nbformat": 4,
 "nbformat_minor": 2
}
